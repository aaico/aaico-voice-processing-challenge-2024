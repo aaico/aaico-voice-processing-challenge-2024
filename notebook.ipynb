{
 "cells": [
  {
   "cell_type": "code",
   "execution_count": 45,
   "metadata": {},
   "outputs": [],
   "source": [
    "import librosa\n",
    "import numpy as np\n",
    "import time\n",
    "import threading\n",
    "import queue\n",
    "import pickle"
   ]
  },
  {
   "cell_type": "code",
   "execution_count": 46,
   "metadata": {},
   "outputs": [],
   "source": [
    "########### PARAMETERS ###########\n",
    "# DO NOT MODIFY\n",
    "# Desired sample rate 16000 Hz\n",
    "sample_rate = 16000\n",
    "# Frame length\n",
    "frame_length = 512\n",
    "\n",
    "# debug flag\n",
    "DEBUG = True"
   ]
  },
  {
   "cell_type": "code",
   "execution_count": 20,
   "metadata": {},
   "outputs": [],
   "source": [
    "########### AUDIO FILE ###########\n",
    "# DO NOT MODIFY\n",
    "# Path to the audio file\n",
    "audio_file = \"audio_aaico_challenge.wav\"\n",
    "\n",
    "# Read the audio file and resample it to the desired sample rate\n",
    "audio_data, current_sample_rate = librosa.load(\n",
    "    audio_file, \n",
    "    sr=sample_rate,\n",
    ")\n",
    "audio_data_int16 = (audio_data * 32767).astype(np.int16) # converting audio data from 32-bit float to 16-bit int\n",
    "number_of_frames = len(audio_data_int16) // frame_length # number of frames if audio split by 512 frame length\n",
    "audio_data_int16 = audio_data_int16[:number_of_frames * frame_length] # trimming audio data into multiples of 512 \n",
    "audio_duration = len(audio_data_int16) / sample_rate # calculating audio duration"
   ]
  },
  {
   "cell_type": "code",
   "execution_count": 47,
   "metadata": {},
   "outputs": [],
   "source": [
    "########### STREAMING SIMULATION ###########\n",
    "# DO NOT MODIFY\n",
    "results = np.zeros(shape=(3, len(audio_data_int16)), dtype=np.int64)\n",
    "# Detection mask lines are SENT TIME, LABEL, RECEIVE TIME. \n",
    "buffer = queue.Queue()\n",
    "start_event = threading.Event()\n",
    "\n",
    "def label_samples(list_samples_id, labels):\n",
    "    \"\"\"\n",
    "        Receives the index of samples for a frame \n",
    "        and allocates each sameple's label (0, 1) \n",
    "        and receive time.\n",
    "    \"\"\"\n",
    "    receive_time = time.time_ns()\n",
    "    results[1][list_samples_id] = labels\n",
    "    results[2][list_samples_id] = receive_time\n",
    "\n",
    "def notice_send_samples(list_samples_id):\n",
    "    \"\"\"\n",
    "        Receives the index of samples for a frame and \n",
    "        allocates each sample's send time \n",
    "    \"\"\"\n",
    "    send_time = time.time_ns()\n",
    "    results[0][list_samples_id] = send_time\n",
    "\n",
    "def emit_data():\n",
    "    \"\"\"\n",
    "        Each iteration of the loop generate a list of \n",
    "        indices of total length 512. Retreieve the frame\n",
    "        from audio data using the indicies and inputting \n",
    "        into the buffer. \n",
    "\n",
    "        Sends the same set of indicies to \"notice_send_samples\" \n",
    "        to record sent time.\n",
    "    \"\"\" \n",
    "    time.sleep(.5)\n",
    "    print('Start emitting')\n",
    "    start_event.set()\n",
    "    for i in range(0, number_of_frames):\n",
    "        list_samples_id = np.arange(i*frame_length, (i+1)*frame_length)\n",
    "        time.sleep(frame_length / sample_rate) # Simulate real time\n",
    "        frame = audio_data_int16[list_samples_id]\n",
    "        \n",
    "        if DEBUG:\n",
    "            print(list_samples_id)\n",
    "            print(frame)\n",
    "\n",
    "        buffer.put(frame)\n",
    "        notice_send_samples(list_samples_id)\n",
    "    print('Stop emitting')\n",
    "\n",
    "def process_data():\n",
    "    \"\"\"\n",
    "        Loop runs while the current frame's processed isn't equal to\n",
    "        total number of frames. \n",
    "        \n",
    "        Retrieves the frame from the buffer and generates the indicies list \n",
    "        for the samples. Generates the labels for the samples, sends both \n",
    "        parameters to the label_samples function to label which samples are commands\n",
    "        and which are not.\n",
    "    \"\"\"\n",
    "    i = 0\n",
    "    start_event.wait()\n",
    "    print('Start processing')\n",
    "    while i != number_of_frames:\n",
    "        frame = buffer.get()\n",
    "        ### TODO: YOUR CODE\n",
    "        # MODIFY\n",
    "        list_samples_id = np.arange(i*frame_length, (i+1)*frame_length)\n",
    "        labels = [1 for _ in range(len(list_samples_id))]\n",
    "        ###\n",
    "\n",
    "        label_samples(list_samples_id, labels)\n",
    "        i += 1\n",
    "    print('Stop processing')\n",
    "    \n",
    "    # Save the list to a file\n",
    "    with open('results.pkl', 'wb') as file:\n",
    "        pickle.dump(results, file)\n"
   ]
  },
  {
   "cell_type": "code",
   "execution_count": 37,
   "metadata": {},
   "outputs": [
    {
     "name": "stdout",
     "output_type": "stream",
     "text": [
      "[[0 0 0 ... 0 0 0]\n",
      " [0 0 0 ... 0 0 0]\n",
      " [0 0 0 ... 0 0 0]]\n"
     ]
    },
    {
     "name": "stdout",
     "output_type": "stream",
     "text": [
      "Start emitting\n",
      "Start processing\n",
      "Stop emitting\n",
      "Stop processing\n"
     ]
    }
   ],
   "source": [
    "time_measurement = []\n",
    "\n",
    "thread_process = threading.Thread(target=process_data)\n",
    "thread_emit = threading.Thread(target=emit_data)\n",
    "\n",
    "thread_process.start()\n",
    "thread_emit.start()"
   ]
  }
 ],
 "metadata": {
  "kernelspec": {
   "display_name": "venv",
   "language": "python",
   "name": "python3"
  },
  "language_info": {
   "codemirror_mode": {
    "name": "ipython",
    "version": 3
   },
   "file_extension": ".py",
   "mimetype": "text/x-python",
   "name": "python",
   "nbconvert_exporter": "python",
   "pygments_lexer": "ipython3",
   "version": "3.12.0"
  }
 },
 "nbformat": 4,
 "nbformat_minor": 2
}
