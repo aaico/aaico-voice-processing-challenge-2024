{
  "cells": [
    {
      "cell_type": "markdown",
      "metadata": {
        "id": "YE_Sf0jEgcxX"
      },
      "source": [
        "# **AAICO February 2024 Voice Processing Challenge**"
      ]
    },
    {
      "cell_type": "markdown",
      "metadata": {
        "id": "RAvukRH_bBkp"
      },
      "source": [
        "### Install"
      ]
    },
    {
      "cell_type": "code",
      "execution_count": 30,
      "metadata": {
        "colab": {
          "base_uri": "https://localhost:8080/"
        },
        "id": "LbEpt6FKZo6D",
        "outputId": "6a3b4f19-d496-4952-9197-ebb7478738e2"
      },
      "outputs": [
        {
          "name": "stdout",
          "output_type": "stream",
          "text": [
            "Requirement already satisfied: pip in c:\\users\\sadiq\\anaconda3\\envs\\tensorproject\\lib\\site-packages (24.0)\n",
            "Requirement already satisfied: librosa in c:\\users\\sadiq\\anaconda3\\envs\\tensorproject\\lib\\site-packages (0.10.0)\n",
            "Requirement already satisfied: audioread>=2.1.9 in c:\\users\\sadiq\\anaconda3\\envs\\tensorproject\\lib\\site-packages (from librosa) (3.0.0)\n",
            "Requirement already satisfied: numpy>=1.20.3 in c:\\users\\sadiq\\anaconda3\\envs\\tensorproject\\lib\\site-packages (from librosa) (1.23.3)\n",
            "Requirement already satisfied: scipy>=1.2.0 in c:\\users\\sadiq\\anaconda3\\envs\\tensorproject\\lib\\site-packages (from librosa) (1.10.1)\n",
            "Requirement already satisfied: scikit-learn>=0.20.0 in c:\\users\\sadiq\\anaconda3\\envs\\tensorproject\\lib\\site-packages (from librosa) (1.1.2)\n",
            "Requirement already satisfied: joblib>=0.14 in c:\\users\\sadiq\\anaconda3\\envs\\tensorproject\\lib\\site-packages (from librosa) (1.2.0)\n",
            "Requirement already satisfied: decorator>=4.3.0 in c:\\users\\sadiq\\anaconda3\\envs\\tensorproject\\lib\\site-packages (from librosa) (5.1.1)\n",
            "Requirement already satisfied: numba>=0.51.0 in c:\\users\\sadiq\\anaconda3\\envs\\tensorproject\\lib\\site-packages (from librosa) (0.56.4)\n",
            "Requirement already satisfied: soundfile>=0.12.1 in c:\\users\\sadiq\\anaconda3\\envs\\tensorproject\\lib\\site-packages (from librosa) (0.12.1)\n",
            "Requirement already satisfied: pooch>=1.0 in c:\\users\\sadiq\\anaconda3\\envs\\tensorproject\\lib\\site-packages (from librosa) (1.6.0)\n",
            "Requirement already satisfied: soxr>=0.3.2 in c:\\users\\sadiq\\anaconda3\\envs\\tensorproject\\lib\\site-packages (from librosa) (0.3.3)\n",
            "Requirement already satisfied: typing-extensions>=4.1.1 in c:\\users\\sadiq\\anaconda3\\envs\\tensorproject\\lib\\site-packages (from librosa) (4.9.0)\n",
            "Requirement already satisfied: lazy-loader>=0.1 in c:\\users\\sadiq\\anaconda3\\envs\\tensorproject\\lib\\site-packages (from librosa) (0.2)\n",
            "Requirement already satisfied: msgpack>=1.0 in c:\\users\\sadiq\\anaconda3\\envs\\tensorproject\\lib\\site-packages (from librosa) (1.0.5)\n",
            "Requirement already satisfied: llvmlite<0.40,>=0.39.0dev0 in c:\\users\\sadiq\\anaconda3\\envs\\tensorproject\\lib\\site-packages (from numba>=0.51.0->librosa) (0.39.1)\n",
            "Requirement already satisfied: setuptools in c:\\users\\sadiq\\anaconda3\\envs\\tensorproject\\lib\\site-packages (from numba>=0.51.0->librosa) (63.4.1)\n",
            "Requirement already satisfied: appdirs>=1.3.0 in c:\\users\\sadiq\\anaconda3\\envs\\tensorproject\\lib\\site-packages (from pooch>=1.0->librosa) (1.4.4)\n",
            "Requirement already satisfied: packaging>=20.0 in c:\\users\\sadiq\\anaconda3\\envs\\tensorproject\\lib\\site-packages (from pooch>=1.0->librosa) (21.3)\n",
            "Requirement already satisfied: requests>=2.19.0 in c:\\users\\sadiq\\anaconda3\\envs\\tensorproject\\lib\\site-packages (from pooch>=1.0->librosa) (2.28.1)\n",
            "Requirement already satisfied: threadpoolctl>=2.0.0 in c:\\users\\sadiq\\anaconda3\\envs\\tensorproject\\lib\\site-packages (from scikit-learn>=0.20.0->librosa) (3.1.0)\n",
            "Requirement already satisfied: cffi>=1.0 in c:\\users\\sadiq\\anaconda3\\envs\\tensorproject\\lib\\site-packages (from soundfile>=0.12.1->librosa) (1.15.1)\n",
            "Requirement already satisfied: pycparser in c:\\users\\sadiq\\anaconda3\\envs\\tensorproject\\lib\\site-packages (from cffi>=1.0->soundfile>=0.12.1->librosa) (2.21)\n",
            "Requirement already satisfied: pyparsing!=3.0.5,>=2.0.2 in c:\\users\\sadiq\\anaconda3\\envs\\tensorproject\\lib\\site-packages (from packaging>=20.0->pooch>=1.0->librosa) (3.0.9)\n",
            "Requirement already satisfied: charset-normalizer<3,>=2 in c:\\users\\sadiq\\anaconda3\\envs\\tensorproject\\lib\\site-packages (from requests>=2.19.0->pooch>=1.0->librosa) (2.1.1)\n",
            "Requirement already satisfied: idna<4,>=2.5 in c:\\users\\sadiq\\anaconda3\\envs\\tensorproject\\lib\\site-packages (from requests>=2.19.0->pooch>=1.0->librosa) (3.4)\n",
            "Requirement already satisfied: urllib3<1.27,>=1.21.1 in c:\\users\\sadiq\\anaconda3\\envs\\tensorproject\\lib\\site-packages (from requests>=2.19.0->pooch>=1.0->librosa) (1.26.12)\n",
            "Requirement already satisfied: certifi>=2017.4.17 in c:\\users\\sadiq\\anaconda3\\envs\\tensorproject\\lib\\site-packages (from requests>=2.19.0->pooch>=1.0->librosa) (2022.12.7)\n"
          ]
        }
      ],
      "source": [
        "! pip install --upgrade pip\n",
        "! pip install librosa"
      ]
    },
    {
      "cell_type": "markdown",
      "metadata": {
        "id": "rk6vQlVRbF7j"
      },
      "source": [
        "### Import"
      ]
    },
    {
      "cell_type": "code",
      "execution_count": 31,
      "metadata": {
        "id": "QC-5fqjPfh51"
      },
      "outputs": [],
      "source": [
        "import librosa\n",
        "import numpy as np\n",
        "import time\n",
        "from IPython.display import Audio, display\n",
        "import plotly.express as px\n",
        "import pickle"
      ]
    },
    {
      "cell_type": "markdown",
      "metadata": {
        "id": "tElnB6HLfT_t"
      },
      "source": [
        "### **Audio parameters**"
      ]
    },
    {
      "cell_type": "code",
      "execution_count": 32,
      "metadata": {
        "id": "FBO1Ji6MfXC_"
      },
      "outputs": [],
      "source": [
        "# Desired sample rate 16000 Hz\n",
        "sample_rate = 16000\n",
        "\n",
        "# Frame length\n",
        "frame_length = 512"
      ]
    },
    {
      "cell_type": "markdown",
      "metadata": {
        "id": "tM08YfUxZ7u0"
      },
      "source": [
        "### **Open audio file**"
      ]
    },
    {
      "cell_type": "code",
      "execution_count": 33,
      "metadata": {
        "id": "BIdyMIjVZ9ff"
      },
      "outputs": [],
      "source": [
        "# Path to the audio file\n",
        "audio_file = \"audio_aaico_challenge.wav\"\n",
        "\n",
        "# Read the audio file and resample it to the desired sample rate\n",
        "audio_data, current_sample_rate = librosa.load(\n",
        "    audio_file,\n",
        "    sr=sample_rate,\n",
        ")\n",
        "audio_data_int16 = (audio_data * 32767).astype(np.int16)\n",
        "\n",
        "number_of_frames = len(audio_data_int16) // frame_length\n",
        "\n",
        "audio_data_int16 = audio_data_int16[:number_of_frames * frame_length]\n",
        "audio_duration = len(audio_data_int16) / sample_rate"
      ]
    },
    {
      "cell_type": "code",
      "execution_count": null,
      "metadata": {
        "colab": {
          "base_uri": "https://localhost:8080/"
        },
        "id": "STw48TN4Fwhl",
        "outputId": "9c0473e7-7357-400c-957f-c2ad6408ec97"
      },
      "outputs": [
        {
          "data": {
            "text/plain": [
              "array([4, 7, 5, ..., 0, 0, 0], dtype=int16)"
            ]
          },
          "execution_count": 59,
          "metadata": {},
          "output_type": "execute_result"
        }
      ],
      "source": [
        "audio_data_int16"
      ]
    },
    {
      "cell_type": "markdown",
      "metadata": {
        "id": "zAM5ACo7pun7"
      },
      "source": [
        "### **Play and visualise audio**"
      ]
    },
    {
      "cell_type": "code",
      "execution_count": null,
      "metadata": {
        "colab": {
          "base_uri": "https://localhost:8080/",
          "height": 75
        },
        "id": "o8kR9UzNpEuJ",
        "outputId": "876b9fe5-e4ee-4521-88cd-70cfbf8d3d8f"
      },
      "outputs": [
        {
          "data": {
            "text/html": [
              "\n",
              "                <audio  controls=\"controls\" >\n",
              "                    <source src=\"data:audio/wav;base64,UklGRsSMAABXQVZFZm10IBAAAAABAAEAgD4AAAB9AAACABAAZGF0YaCMAAAAAAAAAAAAAAAAAAAAAAAAAAAAAAAAAAAAAAAAAAAAAAAAAAAAAAAAAAAAAAAAAAAAAAAAAAAAAAAAAAAAAAAAAAAAAAAAAAAAAAAAAAAAAAAAAAAAAAAAAAAAAAAAAAAAAAAAAAAAAAAAAAAAAAAAAAAAAAAAAAAAAAAAAAAAAAAAAAAAAAAAAAAAAAAAAAAAAAAAAAAAAAAAAAAAAAAAAAAAAAAAAAAAAAAAAAAAAAAAAAAAAAAAAAAAAAAAAAAAAAAAAAAAAAAAAAAAAAAAAAAAAAAAAAAAAAAAAAAAAAAAAAAAAAAAAAAAAAAAAAAAAAAAAAAAAAAAAAAAAAAAAAAAAAAAAAAAAAAAAAAAAAAAAAAAAAAAAAAAAAAAAAAAAAAAAAAAAAAAAAAAAAAAAAAAAAAAAAAAAAAAAAAAAAAAAAAAAAAAAAAAAAAAAAAAAAAAAAAAAAAAAAAAAAAAAAAAAAAAAAAAAAAAAAAAAAAAAAAAAAAAAAAAAAAAAAAAAAAAAAAAAAAAAAAAAAAAAAAAAAAAAAAAAAAAAAAAAAAAAAAAAAAAAAAAAAAAAAAAAAAAAAAAAAAAAAAAAAAAAAAAAAAAAAAAAAAAAAAAAAAAAAAAAAAAAAAAAAAAAAAAAAAAAAAAAAAAAAAAAAAAAAAAAAAAAAAAAAAAAAAAAAAAAAAAAAAAAAAAAAAAAAAAAAAAAAAAAAAAAAAAAAAAAAAAAAAAAAAAAAAAAAAAAAAAAAAAAAAAAAAAAAAAAAAAAAAAAAAAAAAAAAAAAAAAAAAAAAAAAAAAAAAAAAAAAAAAAAAAAAAAAAAAAAAAAAAAAAAAAAAAAAAAAAAAAAAAAAAAAAAAAAAAAAAAAAAAAAAAAAAAAAAAAAAAAAAAAAAAAAAAAAAAAAAAAAAAAAAAAAAAAAAAAAAAAAAAAAAAAAAAAAAAAAAAAAAAAAAAAAAAAAAAAAAAAAAAAAAAAAAAAAAAAAAAAAAAAAAAAAAAAAAAAAAAAAAAAAAAAAAAAAAAAAAAAAAAAAAAAAAAAAAAAAAAAAAAAAAAAAAAAAAAAAAAAAAAAAAAAAAAAAAAAAAAAAAAAAAAAAAAAAAAAAAAAAAAAAAAAAAAAAAAAAAAAAAAAAAAAAAAAAAAAAAAAAAAAAAAAAAAAAAAAAAAAAAAAAAAAAAAAAAAAAAAAAAAAAAAAAAAAAAAAAAAAAAAAAAAAAAAAAAAAAAAAAAAAAAAAAAAAAAAAAAAAAAAAAAAAAAAAAAAAAAAAAAAAAAAAAAAAAAAAAAAAAAAAAAAAAAAAAAAAAAAAAAAAAAAAAAAAAAAAAAAAAAAAAAAAAAAAAAAAAAAAAAAAAAAAAAAAAAAAAAAAAAAAAAAAAAAAAAAAAAAAAAAAAAAAAAAAAAAAAAAAAAAAAAAAAAAAAAAAAAAAAAAAAAAAAAAAAAAAAAAAAAAAAAAAAAAAAAAAAAAAAAAAAAAAAAAAAAAAAAAAAAAAAAAAAAAAAAAAAAAAAAAAAAAAAAAAAAAAAAAAAAAAAAAAAAAAAAAAAAAAAAAAAAAAAAAAAAAAAAAAAAAAAAAAAAAAAAAAAAAAAAAAAAAAAAAAAAAAAAAAAAAAAAAAAAAAAAAAAAAAAAAAAAAAAAAAAAAAAAAAAAAAAAAAAAAAAAAAAAAAAAAAAAAAAAAAAAAAAAAAAAAAAAAAAAAAAAAAAAAAAAAAAAAAAAAAAAAAAAAAAAAAAAAAAAAAAAAAAAAAAAAAAAAAAAAAAAAAAAAAAAAAAAAAAAAAAAAAAAAAAAAAAAAAAAAAAAAAAAAAAAAAAAAAAAAAAAAAAAAAAAAAAAAAAAAAAAAAAAAAAAAAAAAAAAAAAAAAAAAAAAAAAAAAAAAAAAAAAAAAAAAAAAAAAAAAAAAAAAAAAAAAAAAAAAAAAAAAAAAAAAAAAAAAAAAAAAAAAAAAAAAAAAAAAAAAAAAAAAAAAAAAAAAAAAAAAAAAAAAAAAAAAAAAAAAAAAAAAAAAAAAAAAAAAAAAAAAAAAAAAAAAAAAAAAAAAAAAAAAAAAAAAAAAAAAAAAAAAAAAAAAAAAAAAAAAAAAAAAAAAAAAAAAAAAAAAAAAAAAAAAAAAAAAAAAAAAAAAAAAAAAAAAAAAAAAAAAAAAAAAAAAAAAAAAAAAAAAAAAAAAAAAAAAAAAAAAAAAAAAAAAAAAAAAAAAAAAAAAAAAAAAAAAAAAAAAAAAAAAAAAAAAAAAAAAAAAAAAAAAAAAAAAAAAAAAAAAAAAAAAAAAAAAAAAAAAAAAAAAAP////8AAAAA//8AAAAAAAAAAAAAAAAAAAAAAAAAAAAA/////wAAAAAAAAAA//8AAAAAAAAAAP//AAAAAAAAAAAAAAAAAAAAAAAAAAAAAAAAAAAAAAAAAAAAAAAAAAAAAAAAAAAAAAAAAAAAAAAAAAAAAAAAAAAAAAAAAAAAAAAAAAAAAAAAAQAAAAAAAAAAAAEAAQAAAAAAAQAAAAAAAQABAAAAAQAAAAEAAQABAAAAAAABAAEAAAAAAAEAAAAAAAEAAAABAAAAAAAAAAAAAAAAAAAAAAAAAAAAAAAAAAAAAAAAAAAAAAAAAAEAAAAAAAAAAAAAAAAAAAAAAAAAAAAAAAAAAAAAAAAAAAAAAAAAAAAAAAAAAAAAAAAAAAAAAAAAAAAAAAAAAAAAAAAAAAAAAP//AAAAAAAAAAD//wAAAAAAAP//AAAAAAAAAAAAAP////8AAAAAAAAAAP///////wAAAAAAAP//AAAAAP///////wAA////////AAD//wAAAAAAAP////8AAAAAAAD/////AAD//wAAAAD//wAA//8AAP//////////AAD/////AAAAAAAA//8AAAAAAAAAAAAAAAABAAEAAQABAAEAAgABAAEAAQABAAEAAQABAAEAAgACAAIAAgACAAQABAACAAIABAAEAAUABQAFAAQABQAEAAUABQAFAAUABAAEAAQABQAEAAUABgAIAAYACQAJAAkACQAKAAkACQAIAAgABgAFAAUAAgACAAIAAgAAAAAA///7//v/+P/2//P/8P/v/+3/6//p/+n/6P/o/+j/5//l/+X/5f/l/+X/6P/s/+3/8P/z//T/+v/8/wEABAAIAAkABgAJAAoACgAJAAkACAAJAAYABQAFAAIAAAD8//r/9v/3//j/+v/4//f/9//z//D/7//w//P/9v/7////AAAAAAAAAAABAAQACAAJAAwADQAMAAoACQAJAAgACAAIAAkABQAFAAgACQAFAAQABQAEAAYACQAJAAkABAD//wEAAQAAAP//AAABAAQABgAMAA0ADAAOABAADgAOABEADgAMAA0ADQANABAAEQATABMAEQARABUAFQAVABUAEwATAA4AEQAMAAYABgAAAAIAAQACAAQAAgAGAAoACgANAAwADAAJAAQAAgAAAP7//P/3//T/9P/z//P/9v/0//D/8P/t//D/8P/v/+z/6P/l/+P/3//a/9//2f/Y/9X/1f/Y/9b/1P/V/9H/0f/Q/83/zf/H/8n/yf/H/8r/zf/M/9L/1f/W/9z/2v/g/+T/5P/o/+v/7//y//T/+v/8//7/////////AgACAAUACgANAA0ADQANABEAFAATABEAEwAXABQAFQAVABUAFwAZABwAHAAfACEAJgAmACoAKwAuADIANwA6ADoAPwA+AD8AQQBBAEYARgBKAE0AUQBSAFAAVgBUAFEAUgBOAEwASgBKAEYARgBCAD8APgA+AD4APQA9ADsAPgA6ADsAOwA6ADoANwA0ADMAMAAsACwALAAoACoAJgAjACMAIAAdABwAGQAYABEADQANAAkABgAFAAEA///+//r/9//w/+z/6//l/+H/4P/d/9n/2P/Y/9L/0P/N/8n/yf/G/8X/w//B/73/vf+3/7f/sv+w/67/qv+n/6f/p/+j/6T/o/+k/6D/o/+g/53/nf+V/5j/l/+X/5n/mf+U/5T/mf+V/5j/lP+Y/5v/mf+d/53/of+c/6D/nf+g/6j/of+q/6j/pP+r/6v/rP+r/6//sP+2/7D/s/+4/7f/uP+7/8P/u//D/8f/xf/H/8r/0f/N/9D/1v/W/9j/2v/f/+T/6f/w//f/+//+/wIABAAQABMAEQATABcAFwAZAB0AIAAkACYALgAzADkAQgBMAE0ASQBJAEoARQA+AEIAQQA+AEIAQgBIAE4AUQBUAFgAWQBWAFkAVgBYAFYAVQBVAFYAVgBYAGEAZwBpAGkAaQBsAGwAcgB7AIIAhQCKAIoAhwCKAIsAiwCHAIEAewBzAG8AdgB3AHYAdABwAHQAdwB4AHsAdgBrAF0ATgBDAEEAPgA9ADsANgA2ADoAQgBFAEkASABDAD8AOwA0ADAAKwAoACMAIAAgACAAJwAmACoAJAAmACcAJAAkACAAGAARAAwABQABAP///P/+//r/8//3//r/9P/v/+z/6//o/+P/4P/Y/9b/0v/R/9H/zf/O/9H/0P/O/9T/0P/N/8z/zP/G/8X/wv++/7v/vf+7/7f/tP+6/7r/t/+6/7b/uP+3/7P/s/+z/67/rv+u/6v/q/+v/67/sP+w/67/sv+y/6z/r/+z/6z/r/+o/6r/qv+r/67/rP+r/6r/qv+r/6v/pf+k/6j/p/+q/6r/q/+w/6r/rv+u/6z/sP+y/7b/tv+3/7j/t/+4/7v/vv/F/8P/xf/K/8z/zv/O/8z/0P/R/9D/1v/S/9j/3f/d/9//4P/n/+j/6f/r/+z/7P/y//L/8P/2//f/9P/2//j/+v/+////AgAEAAQABgAKABEAEQAMABAAEQANABMAFwAVABQAFwAZABsAHQAgACMAJAAjACMAIQAkACoAJgAmACoAKwAoACoALgAwADAALwAwADYANwA2ADcANgA2ADQANAAzADYANAA2ADoANwA5ADsAOgA5AD4AOwA+AD0APwBBADoAOgA6AD0AOgA9AD8APgA7AD8APwA7AD4AOwA6ADsAOQA2ADcANwAzADYAMwA0ADQANAAyADMAMwAuADAALwAyAC4ALgAwAC8AKwAqACcAJwAmACQAIwAgACAAIAAgAB0AHwAbABkAGwAZABcAFwAXABUAEwATAA4ACgANAA0ACgAKAAoACQAIAAUABAACAAIAAAABAAAAAAD///7//v/7//j/9v/3//T/9//y//L/9P/w//L/8P/v/+//7f/p/+f/5//o/+f/6P/o/+j/5//l/+X/5f/k/+X/5f/k/+T/4f/g/+D/3//g/9//3f/d/9z/3P/c/93/3P/c/9r/2v/a/9z/2f/a/9z/2v/c/9z/2f/Z/9z/2v/a/9r/2v/Z/9b/1v/a/9j/3P/c/9r/3f/f/93/3f/f/9//4P/g/9//3//f/+D/4f/j/+T/4f/h/+P/5P/n/+T/5//o/+n/6P/o/+n/6//s/+3/7f/r/+z/7f/w//D/8v/w//L/8v/w//b/9//3//j/+//6//v//P/6//v//P/7//////8AAP//AAABAAAAAAAAAAAABAABAAIAAgACAAUABgAJAAoACgAJAAkABQAJAAYABgAOAA4ADgANAAoADQANABAAEAANAA4AEAATABQAEwARAA4AEwATABEAFAAUABMAEwAVABUAEQAQABAAFAATABQAEQATABQAEQAUABQAGAAXABUAFQAUABMAFQAVABQAFQAUABMAFQAYABUAFQAVABcAGAAYABcAFwAVABcAGAAXABUAFAAXABQAFQAUABUAFAATABEAEQATABEAEQATABAAEAARAA4ADgANAA0ADAAKAAkACgAMAAkACQAGAAYABQAFAAUABQAFAAUABQAEAAQAAQABAAEAAQAAAAAAAAAAAAAAAAD///7////+//7//v/+//z//P/8//v/+v/6//v/+v/4//v/+v/3//j/+P/4//f/9//3//j/9//3//b/9v/3//b/9P/z//P/8//z//P/8v/y//L/8v/y//D/8P/w//D/7f/v//D/8P/v/+//8v/w//D/8P/w/+//7//v/+//8v/w//D/8v/w//L/8v/w//L/8P/y//D/8P/w//D/8P/z//T/9v/0//T/9v/3//f/9//6//j/+P/4//j/+P/6//r/+v/7//v//P/7//z//P/8//z//P/8//7//v/8//7///////7/AAAAAAAAAAAAAAAAAAD//wAAAAAAAAEAAAACAAIAAgAEAAIAAgABAAEAAgABAAQAAgACAAIABQAEAAUAAgAIAAIACQAEAAYABAAIAAIADAAQABQAFQAVABAADAAVAAwACgAFABcAAABVAGkAuAD0ADEBJAGxAX0CsANPA3oAZ/zw+sT7ofpr/c8A4ARgBxoH4QNH/sr6h/mt+SH5AP6zA3cF5QbyBj0Fyf/3+sn3f/X59In3G/yUACoFzgWrBMkCKv+W+Zv2w/b6+1wCgQW5Bt4GAgWQBOUCTAENAoUCswMNABX/WP1u/AT71PkT+vr8NACnAQwFxASwAs8A0QBK/sL8p/2CAKkDFgfPCfYMbw03C2cJOQKe+5n2ffo9AEkF5QrADBAMRQRL/Yj23e9H7hzwfPPW+Lj6ZQB4Adr5CPL77bXu/u8L9i/8ggPKBmAI/AOuAlEF6AM2A64GEQvBDKEOHQt/CXoFlwF4+fP1pPgT/C4CYgZwCkUMzw4wCML/UfrK92X2svbx+TD+ugSmBtkD8P+h+g32TfR98nD1EfvxBBkKYQvCDfgLgwWO/jn7VPiM+cX86gLXBs4IEAjkBdwBAv1t/IT7t/yiAZYFeQZ9B5EHdAWaASX+WfoC+qL8aAJBBQ8GnAlEB3IFef/c/Kv+kPyS/ar+HAMaA6EAj/6Y/hb9DfvH+3r3RPYe9+b5mfpk+mb6gvrH+dv4LPYB91v3kfWB9CDxePG/8+D1RvYc+A/51Plt93f2PPco+XP6a/1sACcCLAUcB3wIZAevB5gIoAjoB9IIHQumDGcPVhK1ETsSlxBzD/wOfgwrDWgNHwzoCi4K0Ak0CdUF/gE+AED+zf4i/33/8v80AFf/tvxw+cf2MPa29kX4ZvcZ+Cj6CfsG+s36svvM+8r6G/pm+un6C/yv/RX99PtQ/pz9XP+u/sH+1gBk/wj+Of5u/kz+ef7a/osArv4Q/Tj+0gDEATsD9gW3B/MHXggNCCAGJgUjBC8DQQCi/jf+zf43/r3+Yf6j/OP57PNq8aXtjev26V7p/+m/6hvtx+yQ7BPsZOun6hHp0eq37tfxhPa0+iQBYQYGCiQNEhBlEzcYlx5FIvIlpifaKuAsQiyGKt4onSUcIpYfchzUGaAVUxQJEigNgwivBM4Ae/1g90rxGe6l7DLt3+y27Zbumu+/8IXydvJP87n0zfRj90X5AfwB/wsC3gViBiEGTwfcB+EGDgYyBTsEgwMfA30CLwHJ/8v96fu++en2h/Tp8u/xOfEC8Izvre818lL1Bvje+Zn62/sV/ngApgGVAtUCNgP2AuACFQGD/rD9WfsJ+Ar1qfC07Pfq/ec45eXjAOKh4cbhieLM5NTlS+cU6pzqt+s07sPwqfTR+RQAJQa7DbQYdiRzKu8rny0PMPkxRTHILS8phCVII3ciJCFXHkYcLhqfFgYS9gvSBkkDff6s+Pzyou7g7Znu+O677kfuEvAp81/1jvY497j4jfrE+wz9bP7SALkEFAf9Bm4HbQj8CbgKjgkQB4kElwOTApAAfP6+/Cb71fkd+KL2NvWB9DL0e/KC8NTv5O9l8K3woPCj8oD2NPtc/6ACBAYmCV0LQw2dDYAMPgrjBiMDQP76+SX3x/PB7hjqH+dy5cPjLeJR4Z7fMN6G3bXd8N1U3kDgQ+Jq5LrnBuze8S353P8sCZUUMyCSKZAuPDMqOnI+uT0SPGs5EjffMsUu5Ct1KF8ljiKrHsQZghXbEakNQgUM/P70r++j6gTlEeE03xffG+CF4inmFuoz7qvyCvYc+Jv6NP4BAikDMAOKBZwIkQv5DU8PZhHOEmUTUxMFEnoQ8A0YCnQFWwBn/I351fX98UDuROyk65nqy+ka6ZroaOk+7Vzyq/Vw+I/8bADbAuQESwe7B1AFawOaAW7+7Pvu+YL1Je8W6wLpJeaj4gzgqt332rrZGNmX123XtdjE2TvbG95r4hnoPu/Z934DyBDYHCwlhyzlNg4/gEH9QUNCpUC0PAY5dDZEMqouBSw1KN8jIyEoIO4bjhPEC7YFkv4O9gDt4eVi4BHbgdjm1/TYytti3wLk7+dT7IHyLvet+a/6G/wv/y8BmAJ1BF0GOQmCDPMP9RLhFHIXWRiQFh4UhBHpDiQK0QMC/vj4NvUM8tbuP+yE6szpcOkr6S/rZ/Di89X0nfZn+f/8k/62/9D/ZP0k/Rb99PpR+FP36fUe8SDtVOvx6U/n1uNB4BDd7Nt72/HaoNlx2aXav9yf35nhouaz7ZH0nf1OCXoVMh/oJl8wODn6PEVAGEOBQmE/GTwPO9I30jIHMEAtlSnHJYokdyLxGzgVWBB7CrQBA/kL8h/rTePw3VTbwNnO2Tbbyd3H4O7kBuvn79HygfXu94b6Ufzm/X3/qwCCAhgF6AfjCm4O3xHQE4YUgxW3FUwUdhGaDakIIQOH/p369fVS8WHuX+zC6pzrzfAi9OD0Fvjq+1/+vP7R/yL/wvmu9hj1SvEB7Rvr0OmN5XPjTOT15AbkdOIW4dbeXd463k3d2tqB2LDZfdtx3Q/f3eOv6tjwp/q2B8IV4h5lJ5kxEDqsQPhDDkdRRfNAwj21Oow49jOTL9QrqSjnJt8lgiSQIJkawRTUD10JOAHF9x/vsecg4PHaUdjj19DXH9ib29Xgy+bQ7HvxrfTS9vz5Sv07/tb9Gf4q/00AewK+BTcJWAxjD+ESKRUfF24Ychf9E8AOpAoRBl0AKPo19LrvBuxj65LuMfHU8Zz1Rfr5/WwAVgFfAYD8zvjV9Srwt+ps5vXiIN413Ajdtd1g3uvecd/E3+jgEOIz4ZTej9xz3DHc7dsJ3a3fcuRF63j1/gL8EMkbrCbjMos91kVuSIZKGkrnRMVAQzwNOE4x1CpPKDkl5iI8IxQjJSC3GskX4BXiDlsFd/us8vLpWuFN26HWbtPI0k/UldiC3n3l1+wm8p72efscAAYDcwLSAPj/OgCWACIBtQI2BGIHaQtLEI4U8xYUGSYZahdcFCwQKwuvA6H71PRa7xHrp+cF6OTqJex78Fv3QvwCAMUB5gOOAtH+S/w/9hbvYelE5d3gKd1o3GzcmN373hjhwOJo41jl2uPQ4Y7gKN5l3XnbKNob2+Hcf+ON7Vb4VwYuEiAfcC5BORBD9UdnTKhNP0cERPo/9zkEMqoqdCcsIxEhOyIEISoecRtsG2oZJBIeCv8AR/iW7hflMN2w1tjSy9BD0eHU6dpP4jjp1e+a9tT8uQKhBT0FMgRRA2UDHwLZADgByQHcBOQIcA2fEbkUHhiCGfIYWBd/E9cNEQY8/un2BfB96q/lWuKk4hPnDOug8G33Lfx7AGkEVAfvBU8Bmf0y+DTxO+wy6EXjH+Ax4BThveJ65avnmehJ6I7o/uet5DPhvdyr2JXWjNWN1YLXWtzM5AnyBwMEEWoc8CufOg9FekijTL5QhkkyQhE+uDlaMl0qbSfAIwUhQCPCJPIiKh5BHB0bgRRDC6r/ZPVk6yfh0NgV0ujOOs4nz1TTZ9rV45fsofPI+Vv/NwWWCCgInwVYA98CfQLvAVECfAM9BwQMLBEbFlsZFxyKHJEaVRfEETELUQLI+FHwaum25KHght7p3/LkHur+8Fr5ff6QAUgF7AeKBbMAW/yt9nnv1epI6FHkeuLD4w3mf+ho6zHu6e6G7SbsYel75JjfN9rH1OrQEtDk0OnSoNiv4vfwGAOvEakfqy4DPClHsEnVTGxODEiGQJQ6rTZxMN4pPiepJE8jeyXzJzEmSiApHbcZTBIvBz76X+9T5EvaqdJTzRzMPc1y0O7VBN7t6EDyafmP/qwCpwdpCakIugWsAo4CLQKdA2cF2QfZDKoRTRdQG9kdWB/BHKUYjRJvCwwDCvk38IvnteFD3rzcPt344KPnVuxP9Ib9uQGlA38FBAfGAsL9UfoZ9I7t5uor6jznX+db6tjsiO5y8GzyIfGp7jLr9uRu377ZYtQj0IfM6MwNz2/Urd1Y6F75Qwx6GiUo7zXRQtpJZ0r9TP9K0UM5PXU4lTR8LZcq+ig8JmYloyaVJ/shoxvAFjoPBAVg+KbsAOID2DDRK8z7ykzNpNGZ1+veFelw88X78QHCBcMIYQvtC4YK9gfOBoQHQQjYCjkOLBJ0FqMZwhzEHVIdNxoHFIIMbQOp+sTxM+mp4eTbnNnZ2B3aUt775RfsfPHz+scBjAS7BSgISgbxALj+svtC9jXytvIo8XnvmvFO8/Tz7/Jf8nvwzutt57TgMtpv1MbP6cysyVvLD87h0lLauuXE9qwI3ReUIzoz0D9ISZVLU0zpTgpIV0EAPYs6NTWbL2csHycOIw4jXCO8GtsPswqDBHn52uxD4hva69Bry2rKscrnzqPV49xG5MruXPzABkcLag54Eq8W1hcXFmAUyxJLE14TfhTVFp0Xxxj3F8YV7BKBDu8IIP859HLrPeQ/3vrXQtRe0kvTktYB2+Tgkuh+8qr5fgJ/C9kQihN6FYwWOxMQEG8NkwgNAqn+3/vt9ujzq/Gs7hbqZ+bC4/veFdpa1LPP3srKx8rGhsdzyqPNrNYX3h/qnPfICHQgjTF5PyNKNVc4YgBkM1+aVpZLHkCoNOYokR7uFZcMcwNv/2v/rvzp8tToieL720TXVdG7y+TJ2MuL1PHe4ux8/SILaxZXIWEtZTaWNhAzUC0AKHIjCh2gF2QPiAm2Bc3/9/wC+DnxFeiP3e7YT9RP0KHMJcuQzuTVpt+p6dLzL/2cBSUMohELFgAYwhmNH2AkvisALsssRinBIGQaxwuZ/OfpStkkzbbEu8EuvwvDsMdCz/HWjd6Q5HXk5eHj3MLZUteB2Hnb8+Cb7Qj9Ww7fGA8qrDuTUSdfXFpyVrdLEEqyPbEqlBtRC+UB8fhc81fx9exe56Lhf9xL37/fnN4P2yjb9OQk8Vf/hQlBFEkfEyg+MQY3lDe1MgUrwiP2HUgZJRTIC1wCHPt/9tLxjeoS4ofXqtAazVvNStHU073aAuON78P96AgtE9kXjhyvHhsf1x6eG54YkBI/Dt8LpgklBpf+M/a68sv0RPb59gHybvDy747xDPIB7zPuOOlB6ATo7e288W7yOPPy8cr1UvnN+Un1Ge6P6lLkj+Ee327gGeNZ5U7ryfEd+rL+EQqKHJc600I4QiBBFUmxUI8/6jB7ILEV/waF+rf1YvLP7PXni+I34xLprOse597cQOAa6if02vtlA0UQ7RqqJj0xHTeXOOkyoSncH1UZORNHCWD8vvK77SXs9ujF4/bcsNcj1knVd9ii3I/i3+kV8pH/2QtjFz0eSyCcIbAfUh+uGaASMwrQAtP9Y/lh9rLxC+wA7DPxJvej/+L+3v6x+yT9a/2g90b1Ke6+7Mbr/PDj9DP1RfWL8J/t0+s465nmhN8u2U/V6tVu22DjM+kR7UvvK/ej/igNyBscN+1O4FA7U1xS4l26Ugc69STtDkz+luy341/fR9hM1SrWXNYS3t3j4+cj4zDioPB5/lYNkRcBJFUx3jkcRSlHDkLpNvcmuBg5Cn8AS/ew67vhttvC26Xbmdj91NnQJNFs1O/b3eYZ8T/+XQqcF5wkAy3yMFos1yY/H/kW+Q0GBHP7HPJE7JDocuUA4kzdyt0c5gHwtv6nBfAKJQ1UD28S8Ao+BhX9efb38D7vd/Cs7kjtfeiK5JLjV+T14a3cothq12TYB9wV4FzlbO2L9CT/igNkDfoe0zrnWqFbyVcfUvFTqUuOLmoZZgLo7W3dcNTC1hfYBNb818TVb96Q6u3x4vTn8lYAThBBINkuezcMPzQ/LT17OPguTyPfEI/8v+416KXmwOJF3UjaMtnB22Ddmt763/biR+kq8isAmA/wHLckFShzKggprCSSG6QP0gJU9wbwEeuD6BHm0eLl39reGOAY4l/oHvfaBQUVbSA1KLAqtiXkHoEPXwAn81To9N9b2/vbPd103xTgDOBB4Gzhv+Fo4GHfit/Z4Uvkgedf7Ln4dgXiDQ8U3xZEI2Y721f1WixLxz7QOzgyUBocBpXy6ODQ0InN1NMS3HfgIuIc42DqWfobB3YMnQvJErEeriopNHI4Wze0L9olNBv2EbEHlvmi6Ufevtuq323kiOUX5XnlEunJ7YHy6vc6/AsBeQdTEJ4anCGXI6Ef0Rc8D/oGsf5C9nrtO+ZQ4sLiqeaO6fLqourV6zPumfJa/P8PziGrLtI0hDNDLX8fHBJo+tLlo9azzDvJVMwL12HcuuOK6ErrtOyI7tbuHuoE51jny+hv6qjwwPgIBQsL2Qw4DB8JzxGzIulBNEw6QXQ3ejNkNFIfvQkm98Pj89XM0NXY3+Xl6/jwmfMB93kFjQ01Ea0LhgolFOIb3iU2KyIrMCcmHncU/AtEArj4TesH4WjgZuXu7kXzs/TO9Yb1W/cV+MX5gvwG/p8BGwfiDlkXzhkmFwsQ+wVQ/nj28fGU7TDpf+i06aTvmvSP9+D3bvaU9ej1iPw2DyohPy88NBExVSeOFd4G8O4k2+/LScO5wkjJTtrU5Rrv+/I/9MPzFPN28rbsJeeI5I/nfe1N+PIEGAvpCEgBP/pd9Yr3YRD9OjJQfElNPTBDqUagLjIS3Pbk4OfQF8up1i/m3fLh+mL5HvvlA/cKbwtnAMD+0QiOFRYley6FM8QwvSWaGGQLTQA29ejmAN1j3T/mpvPF+pv8h/vX93j1N/Kf8r/1Hfmg/38GGhHQGwMg/hxMEqsFW/n07qjrkOmK6BnpCOwO83P4tPsC+272NvI48br81hMxJW03ZD3aNlUkLQ7c/Bbhys/Nv225P8BNz0viku1R9xD4avXK8GrtEe0y6sLlXuc98X35IwBxB0oKywOn+bTtveo7+DkffEyEV+pMQUMaSVA+BRyIAXzr2NfpyQLN++HU9fv/cwKT+/v6XQCpA1wC8PuUAp4QaR9vLnc2+TfgLoEc7wn0+yryKOvs4kbh5egL8w7+eAGFAAP8bPNe7jbr3e729yMAZgnTEFIYYx5EG6cSCQUe96Xsg+YW6rXujPKU9W738/o5+3b5sPWV8C/uXfYREDMmODe+P0k4yyOgB2L2Q97dzCzDM719xdLSxuYM8pr5/Phh8CDqXuR65zjv0vZl/UYCtQc4Ay/8ivY68onwP+ZZ377jRPr0LBNfrGktWGVGCEAKKZMH+vcW60XhoNm033H2IwjYDJcCN+7c5CHnbe7E9uX96g5WICgs+jXAObU1SycdDVb5DvC17w32ePWl+aL95/4KAFX4GvIS6pLg/93M4HPv3AFnDysZ6xm/GIQVbg0DBrX8dfTe8CryMvrZAPsCd/+d9qPvBui44ynkVOfn7+QHviNkNp1AezzXK2kLhvLx33TSt9DVzqfVy95a6+zycPFD7EPiwdqE2CDfEO8bADALEBCNDfsFaPgG7ZXhp91S4crmwu0A92MRwzuoZ69pQU3gM34pyhge/7z4i/ns+DjzVvRn/JgCRP+Q8bbdZ9Rf3vLvywEzEOAhMi6dLtUrdSZuHzgVvgSF+sz4dgD5Cd0KwAj5AVv5t++i5cHgsuBq4izn1+7O++oJXhEvEhEN4wavAlYAnwGpBMMFawftBugH1gUR/5/1T+o24wjf/ODy513wMQEbG64rfDLnLfgkJRHY+XjreN6Z3lXgl+S96X3vgPNn7M7jodpq1TnVU9xU7Af7KQg0C1cHPv0v8FXl/9zW3HXi1uz/+ocGDw/yHsdA7WISXZNC/SthIy8VBwZqB0AH1QIZ+RDy2e6x7m7tPOcb2vjZkugF/EoO1xoeKBUqLCTaHTMY/Bd+FhMRCwwRCkMOAhA/C90CfPhT7ZTjct6d33fmWexK8SzzjPch/rMA8gEvAcwBzAMLB68NHBO1FGcS6gudBYf+0/YU8O/qweg052Honuuh8qUG4Bc7IFYfDhq/EtIDPPt48AnuJ+4y67bs/e4D81zuKufH2xLS8tJk19Tgd+7B+7YB/P83+0bug+Zg297a5eHZ7cT5sv7BD0sUnxywM2ZWPlwESM80Wi1rIdESOBNgDVEG1voF8sbov+U66kLrj97M3Vfn9vamBhYRcx7wHREcdxnFFlYabiA7IFQc0xUXFgoVYg4jB2L7AfIk6GriseJZ5uPq7eve6FToVum77przd/g5/lUDrAvHD/4WghlaGB0TcQsuBUT/Nvzb+SD1cvFj7HnvwgJND6AZcBJ/CE/56O2u7xjrjfJt86/0qPBs7SPwPOxT6dLexdhR15/aV+Vm7UT0HfXK82vtH+XQ5A/koeln6zzz4vjY95f2JPiWBqMgd07mY+BfwUofO2AqUhbjGHYcCRwfFZcJZQDz9XbyY/D83vzZjtnq5OjzAgM7E2oT4w7qB2YCoQa1EZgcQyQlJZYlNyJRHcQYuQ/kBdX6NfLe8dnwMPXl8nfrl+IV15DVDNa038XpFfMp/F4B4gg7CpMMjA6sD7EQyg2hEqoPXRMHIBYieCCTEOAHaPoU8LnsKeR85vrjBeHk2JjTxtPj05/V+NTx2jbhjOdn62/qbe7c8CX0o+9v7/vwRfIx+238HQbyBDH/9vZZ5GvoZ/j9MgBpjGOdRBoQaPU26+b2+BwdNJ9EETsdFkH+ffbH/UH9//XK+3QEfxNpHkIcGBWhCOz0+uWN5pkBVR31LJ4qTRmGCBP7Tfer+pYEDRM9F34QXgeeAK76QvI+6UnjBOUZ62j11/dW+YP2iO6156DjlOpk93YC5QpRDfoR6RgaHbgd+BRODvAHCAJh/i78Tvsk8nblOdod0DPPoM7K0c3VRdos4hHlmeb95O3jjt9N3S/grOSC8Jn11/iG+in3svd9+Yz/4QA9AA/+n/cZ9KT3thaANXBDgkM/Ks8dIg9vEkcnajCdSVBFeTBRHrIJKg1mC9MQzhq5FkMYcBDQBjf+ffoE+jby2/Qa+foCHwkZBYQDYfqX9/H2lfgGBbgQ7hj7FLwJeP5B9SX2zvcT/zQD0gMM/xXxWevY5xvqje/A8Av0cfiH+44BCAF9AMj+ePiB9Hfyy/Z8/Lb/7fvB8nPq/+EL4lPlReqQ75PspOjv4HfeVuID5cfrEu457Ojo3ONu5KjlfOqc70jyl/FI8sX1xPl0/m8CMwV9BkIIvwjiBhsHUgvNDZgWaR28JPknbSVaIskcphv1H1om1SwhMJItQif7HMEYPRZbF4kbpxyDHaEY5BF6DIUHawfKBo4I/QjnBX0EMADE/Rj9Lv06//wAkQJZAqT/bPss+Jv3U/cX+cj5X/lF97TzavH577/wkPIH9FL00vK28RnxcvCc8J3xKfQO9ej0YfNs8eXwmO/D7lntcuw978b15/xJ/8r84PQf7IvjHeMN7lb8rQmaDRkF2PSa6D7mEuxZ9Xb9Z/+K/dv5CPXA7x7t7+/a9ssA5gcPCfMDIfxX9sv0d/cF/JYAdQS3BsEGDwSYAIP+bwAEBbwJOg0DDiQNmwseCiMKEgvJDB8PaBBiESIRtxCOEHAQbRHHEvQTthSoFDgV8xTyFI4U6hPbE0QTeRMAEwsT+hGkEeEQ/A9WDQALPAu+DKINtQwBCtEF7wGL/kn9O/4/AQMBPAIi/hv3EPI59RP3LPnl/Sf9vP1i/On/2P/2/pD5mPJn7U3tdfEw8VjvW+pV5nLlWegS6z3sZ+u46RXpjerB7Fnu2u4B74Dvo/CM8S7xxvDs70LwJPJ09GT2/PZZ9jP2tvbB9xn5LPqo+tX6R/uw+zb84fxB/gb/uv+oAG0CggOFBJgFNQa7BisHfgfVCGQK4gsoDdEMcwwvCxoLIgrdChIM8A3uDEoLugxcDG0MIgyXDEQM1Q3gDxoOTwyCClQKUQvmC7wLxwleCJsHywhICTsJHAgFCPkIKgkSCEIGlAQnA3UDBQV9BrgFkwQ1ApoBBwItBF8Cyf8w/mb8K/3e/c3+rP23+/34c/j+9zL42/cM9+b2svcp+MD2bPal9az1//UB9xr3bPay9uj1JvZx9i/3w/eV9/72wfaJ9/P3H/jf96z3oPfN9xj4QPlr+fz5Mfv8+7f8K/29/Gb8Mvzy/FH9oP2z/Vb9v/1g/d79DP60/uD+qv/U/+n/1QD4AKgABQC+/4kA3gFVAvMCagJFAgMCogLzA08E9gStBNcE5ARnBTUFAgWaBagF8AUZBi8G/wVWBmwGywYXB4QHEggQCF8HSwcrBxgHbwfEB1AISwgKCAEHKwaWBSwFTgUmBccEoAQ7BA8E6AP9A3wDGgOuAhYCyAF8Af4AlgAOAOH/GAAMAPz/6f/j/y7/1/5s/mP+bv4W/h7+zf2l/bz9J/1d/eH8S/3w/OP8FP2+/Fr9/vxJ/T/9M/0O/UL97vxd/Vr9+vz9/PL8Bv04/Rz91fxa/f/8zfy6/IT8efym/Lf8yvwF/Vj9G/33/DP9Af12/Vj9GP1//a39/f0m/kT+MP5I/jv+bP6l/oT+q/6p/uf+6/4u/1//F/9C/xD/5/7P/ub+Of9V/8P/xf+I/4X/KP9N/3L/ZP+j/2D/CP/n/tr+4v4V/zH/M/89/0L/I/86/27/mf+U/6v/s/+r/9L/yv/s/xAAFAAgACcAKgBCAGUAZABrAFkASgCJAI4AwADTAOUA9QDvACwBUQGTAdwB9QH0Ad8B3AHhAf0BDQIfAk0CRAKFAncCWwJVAiACDQImAjwCQQJLAhcCDQLWAeIB5QHlAe8BywG6AacBjgGOAYsBqQG0AXUBpQFGAQsBBAH6AB0BJgH3AKQAgwBSAHsAhQCBAIkAVQBDABsA5f/r/w4AQQBwAG8AIwC2/zH/7/4V/6r/TACSAFkA2f9T//L++P5R/+j/YQBjACwAyf9v/1T/X/+2/ygAkACvAHsADgCr/0H/Nv9r/9T/SgCGAFAAzf9Y//H+3/4T/3f/5/8vACMA0P9V/+v+x/7q/ib/gf/G/+H/wv95/zL/Cf/+/gz/Qf9U/3D/aP9E/x7/+P7m/uT+9v4R/yT/Mv85/y7/HP/2/un+9f4e/0r/bv93/1v/QP8n/xf/I/9K/3X/pP+2/6v/kP9y/2D/Yv+B/6r/1v/a/9//0v/F/8P/xv/Y//P/CgANABMADAAIAAkAEAAgADMATABQAEgAMgAqACwAKwBJAFgAYQBvAGQAVQBIAD8AMwAwADcAPwBIAEMAQQAvAB0AFQAJAP//9//7//b/+v/4/+j/8//k/9//2v/M/87/xv/F/8X/tP+w/7f/uP+4/7b/uv+u/6f/pP+q/7L/uv/K/93/5//n/+f/4f/f/+f/6//z/wwAGQAnADQARQA7AD8AQQBCAFYAXABwAHsAggCDAIUAiwCOAJUAnACZAJwAoQCoALAAtwDCAMUAxgDGAMIAwwC8ALgAtwC3AMIAyQDVANkA0gDHAKsAwwCvAKEAuACnAMMAqAC6ANwAuACjAI4AiQCcAJEAhQB/AHMAggB2AGUAWQBGAEEAOQAsAB8AFQAOAAoADAAIAAAA+P/l/9L/0f/O/8n/v/++/8H/wf+3/7L/pP+g/5z/hv+K/4P/fv+C/37/gf92/2z/YP9X/1D/Qv9I/0X/RP9G/0j/Uf9G/0X/Pv89/zr/Pv9E/0D/TP9T/1//Zv9s/2P/e/9r/3//b/+G/33/lP+V/7T/qP++/7b/t//B/7//3P/O//r/1v8MAOD/IADc/zcAyf8sANL/NwDh/0YA8v9WAA0AVAAvAEMAegA/ABkB2wFIDu4CFvvE/Qj9FA1MDmEGcQ9oA/f5fP1K+M4DVQfsBa4GV/6Z9dbxFfJC97XzIPv989XyEPoG8GT3N/K19IT31vilAH8BIgW8+rn+YPUI/+sA4QOoFEYCjQpL9yr/lP5gAMMLAwL1EK//Pwj4BWL/cQhJ/6YLKADYBrQAzwmQBmj4Nwo88jYKv/aDBN4LLPo7DfvvNAD8CKj4SgM1Avr+5ATFBEcI/vw3ARsAfP3pAwoI4gna+vkIJ/ooBBsHovyTDOb5aQxO/jsEyARjAJj+Hv6rCh319gu6ANL7QwE5BQ36Yfb0DXX0SAc1BSn8dADO9iwDQPy5BC/6kASu9wP93QX/+DQEdfkbAj35E/wRC9j6gfpOAIjyqf3g+nP8KQE0/Wf/Bfoj+EX/1AF/ABz8RP9w+qoD//gM/VQFjfj0AE/2cvwe+eQKuPl6/j7/S/s2//b0ggao/7T78PxO+YDzEgQA/yLtlfcc/4j5tfhN/WT2SPqxBEH0kAAf/Y792ATm/jUBFAOqCVzvEwQCCtvzXgeVBrkBpPMYDzD9wvWgEXb5kgPf/8QJDwTx+qgC6QWN+AgCTwze9tABcgxd/hMETwmQ+nAD0AamAlYBeQmNADn8yQ/hA1IDjAG1+MwHYAYnAuQK/QRA/MEGHgSsCM4G1AbqBCf6awMnDX0EgAKoCl3++vQADMkEfv+RC/7/JgCp+hQCqvbYBS0L7/T39ZT/kAC4+HUMYftG9Uj7t/R9BUYDYwx3+ybqBv2/+pD/sQuuAVjzKft6/eb27ADeCQEEEvw19Bn5xQLsB0QGrfa17w33zPtHB9QOuw9hCsb/fv8jAikLNhplEf8K3g5MB6cNKhOUD/kOHwzzAswJVw5sE5kShgUY/zX85AB/CM0IyAbvAvz5H/L88c79VwGsAmr8S/O77j/0CPJi88f2l+/T6crqvPGI70XrKOf65wvimeTv8FXwRuXj6SDktuKu5cPpmvF07pXqXd7w5MLjIeZ67DfpW+cq6HzuBOpq6YDuU/Nc8mfwF/Kj8eP71wuxGeod1RchEugMjhPnIwEulzmzOFoyQC9sKeEsOjXiN2U3RDjFN/g3VDGGLmYmTR5JH6MeQh+/H2canw7nAWn5hPhc+jj8Y/oc+OzvTekj5Rzl6OWm5//o2OSw6QHr1OlK5hrk7ubd69j3qQDiBCkDaf0u+kz6IgLUCnIOygzkB9D+o/dC98n2bvfK+KfxBOpO5sLgwd8227zVttDKzlHSSNBlz8TLk8HHv2HEjskJzq7T8dbq2p3kYPCbAqINTg4kCtYF8xSfKoI5tUSxRKE+cTrTOjRErFJ+WbpWI09zSkBJaEXVQDc7UzTZMCsrBCU+H7IUFgiQ+xTycPFt81rxVOv/4FrZkNJ60KPS3tYm23DbmdkP2L/YQ9wQ4FvkFOri8Dn2Cfiy/uwHxBC5FfQVjBQNGDEcuR3rHl0cBBm8EZIKPgZBBNABKPlc7qbnoOMH4fbbj9Vdzw/JC8U8w5bCB8LTvzu4ALSTtrG9scfOzwzWMt196Oz45wIZBXUEVweXGGUswjp/RLxEMT/DOSE5BEXhVeldPlobUIJGoT/gOQ03RTbMNN8uxyJCF3INuAPh+o7x1+xI7aDr/eZa3prVt89yzLPMDtFg2CPd+9vU14jVstgv4InoYfH4+G39if6e/usAJAZrD7wbVCYRLSUtXyWtHuQcRiClJ9IqHyc/HTkPpAI7+8v4W/ms98fxVucT3XTVltD+zirOas2+zA/JdcMJvz+7Y7skvy3GLs5P1SbYPNz84xDw0gFgD1gUDRT/FDkfxDD2PDtEI0YbRAdBbT/WQwZN71GpTgJGBT4bOhc1TDDiKnIlsh7XFFYLfQRC/RH2JO0R5fnhsuCe3jfaEtQ6z6LNh81v0GrVMtq92+baMdqa3e7kxOyK8zb5eP2CAJsCcwVKCq0Q/hRvGVMhTSdGKdQlhh4iGzgduB9oIgshIhlyDZ0Bj/gZ+AT7AvqS8+voAt7m1wLWu9Y42X7ZpdV1ztzIUsezySjMdMwfzEfPANNR18Xbod9e5GTrPvPQAqwVwx24GqQQOg2ZHJwxSUAeSZFFQDzYMeUqkjGeQZpLyks3QS8z6CcCIM8diyCsJL8ibhdKCPr6evKg7+7s+Owx7rjrW+TX2erQkc930vTWZNxx4Dvhk92L19vVEtx25mXw4/ZB+dn4Cff89dv5NwO0DagUNBbBE4YUGxclGdQb5h45ILAgyRyVF7MU+xFMDRUKrAdsBUoDj/t18q7tBusg6XXpKOfI5eXhstrE1HzURte229Tbt9ms1pfUK9T11f/c0+QW6ubqR+se7DT0HPr/BpEUeRvXGewSbRAyHMIrujNoOWU1HzE6LBYr4y8NPDZAkD1eNIwq8CSxIlsjMyTRJH0eqhQMCGkATv0J/5H9//pb9YruIech4SLfCuIR5bfjT+HU3CjbltqB24jdOuOx5m/onOg76Ijqf+5V8l32yvvx/p0BhAEPAuoD1wjQDwIVcxhcF5oTuw9UD5QRKxcfGQYXTBHzCTgEWQHFARYEHAWhAA75we8M6xjq1+sJ7afsrOgk4/DdANza3vPjjefc5w3mr+Pk4xzm2euD8Zr2TvhL+Of3G/pq/rYFQg89FFsUCQ+aC04Oehe3Hy0mWCc8IxQe9BisGTsftiVeJ4IkSRx+FP0OLA51EWwVzRYkE1cM4gTGAAIAuwJMBfIGqwS0/3758/Rj9Nz25Pmh+9z6W/dt8//vue+V8ub2BPq7+l74YPX/8tXyGPVV+Br7qvv3+SP3F/W69Cr3P/rv/Kf9pfva+MT2RPbf9wb6R/t7++f5kPd+9YX0bvVu9y35cvr0+lP7ePv7+iT6jPmI+Wj60vv2/HD9//z4+4H6jPmU+Sf60Po++2r7Vvv4+qX6lPrv+oj7TfwO/Rv+Wf8sAFIAGQBFADEB/QLEBIAGzgdVCO8HzAZDBgEHzQjyCsUM0g1aDi0OmA1MDfANdg8BERwSjhJlEsYRHxGgENsQZRHfEdwRQRF4EJIPmg6vDQgNZgzDC7MKeAlaCE0HCwaiBPMCbQEhABH/N/5t/ZX8TfvJ+R345vbw9XP1CvWz9B70N/MQ8v7wevBc8IfwcPA58MTvZe/27gjvXO/i7wbw2++m77Lv5u/g78rv0O9K8MrwMfEa8QDxCPEb8THx7vE68krzofO38+P0NvXk9R735fiL+Wj65/sg/Q/+g/8lARECEQNXBLsF1wZKCOsJjAvzDCkOEA//D20RIRO6FEAWvhfUGHcZyhlYGjAbBRybHNwcghz1G1IbixrTGSEZcRhmF+4VUBSwElQRFRCeDkINggu2CdwHEQalBFoDEwJfAKn+7vx5+wL6mvh291f2NvXV82/yN/EO8CHvgO7Y7UntquzS6+bqGurB6cDpy+nQ6cfpfOkY6eXoGOmb6UzqCutp64LrvusP7I7sVe1d7lbv6u9n8OvwiPFk8lbzTfQ+9R320/Z191b4nPkW+2n8kf2P/oH/aABoAagCBARnBZIGjwdnCFQJbAqiCwgNbA6nD5UQPBHeEbMSoROOFFwV7hVjFrMW8xZUF94XdRjLGNgYrBh0GE4YNxgZGMsXMhdBFiMVBxQPE0oSdRFOEOUOWQ3PC0QK+AjZB78GfwX1A00CtABU/x3+Df0A/Of6o/k0+Mv2o/W99O7zL/NQ8lvxX/Bn74zu4e1v7Qjthezl60frwupp6kfqQOpL6lDqPeoi6i3qiOoU67rrTuzQ7Eztwu1m7jDvIPAp8RHy4fKi82L0SfVO9nH3mfit+Zv6aPs4/C79Q/5m/4IAhwFzAjsD8QOuBIYFeQZXBxkIwwhXCdQJWArZCk4LxwsuDIAMugznDBANNg1UDXQNhQ2ODY8Nhg1/DYMNhw14DWcNSg0zDSoNEg0FDf4M6AzXDLUMmAx9DGcMUww5DCIM9gu9C3ELHQu/ClwK/AmICfkIWQinB/EGPwaDBcQE9AMZAzYCTAFZAHD/i/6e/bP8w/vh+gT6Lvlg+I/3z/YR9mD1s/QS9ILz9vJy8v3xlvFA8fTwuPCN8GHwR/A68ELwXfCN8Lzw8PA18X/x2vFF8sHyRvO/8zr0svQ79cb1W/b19o/3Kfi4+FP54vl7+hz7uftW/O/8g/0V/q7+Nf+9/00A5QCIASMCuwI+A6UD/AM/BH4ExAQCBU0FnwXoBU4GwAYrB5AH7AcsCGEIhQiRCJkInQipCLUI1wj0CBMJOwlXCXUJfQlxCWEJPQkHCdsIpQhpCDsIBQjQB5wHawcuB/IGtwZqBhMGswVUBfwEswRtBCYE5QOsA2sDJwPgApsCUwIIArgBVwH+AK8AaQAoAAAA2P+r/37/TP8X/+D+p/5n/iH+2v2L/Uv9Ef3o/MH8pvyL/Gn8QPwN/On7rPuH+037RPsO++f63vq7+r/6tvq2+qD6pfqZ+pT6lvqd+qH6svrN+uH6//oe+z77Wvt8+5L7svvL++H7+vsa/Ef8evyo/Nj8Av0g/T79Yf18/Zb9s/24/db96f35/RX+Nf5W/nD+iP6S/qX+tP7D/sv+3v7p/vn+Cf8c/zX/UP9s/4j/q/+//93/+v8OACoARgBkAIMApQDHAOgADwE1AVUBdQGXAbUB0gHnAQQCHgIyAkYCYAJtApMCowKkAr4CwgLQAtAC4wLYAtcC1wLVAtsC3ALlAuUC7wLuAu8C6wLvAuwC7gLnAuUC5wLlAusC7wLyAvYC+wL9AgYDAwMBAwID/QL3AvYC7wLyAugC4wLcAswCwQKuAqQCjQJ2AmACSAImAg8C7gHSAbEBigFqAUABJAH3ANIAqACFAF8ANwARAOn/xf+k/4L/YP9A/x7//v7f/sX+q/6P/nz+af5O/j/+LP4V/gj+AP70/er92f3P/cT9vP20/bD9qf2l/Z79mP2a/ZP9mP2Z/Zz9mP2a/Zr9nv2i/an9r/24/cP9xP3P/dn94v3v/fX9/f0S/hX+KP4y/j/+Uv5X/l7+bv54/n/+i/6X/qv+tv7H/sn+1v7j/ub+9v78/gD/CP8M/wn/FP8U/xv/Hv8i/yr/KP8u/zP/Ov8+/0j/Vf9Y/13/bP9y/4L/iv+b/6X/sP+//9D/5P/w////CQAgACwAQgBRAGEAdACDAJgApwC2AMUA0wDkAPEA+wAIARIBFwEhASoBMAE5ATsBOwFCAUABQAE/AT8BRgFDAUABPwE/ATsBOQE3ATUBMQExAS8BMAEzATABMwEwATcBOQE4ATsBOQE8ATwBPQFDAUMBRwFGAUcBQwFAAUQBRAFDATgBNQEvASUBIQEcARMBCwECAfQA6wDgANYAxwC7AKsAnACQAIIAdgBnAGAATQBDADcAKAAkABgAEQAMAAEA/P/4//b/7//v/+3/5P/r/+n/6//t//P/8v/2//7//v8GAAkADAATABUAGwAdACAAKgAvACsALwAsACwANAAvAC8AKgAkACAAHAAXABAADAACAPv/7f/r/+P/1v/K/8P/t/+y/6X/nP+F/3r/iv91/1v/Sv9g/0H/Mv9B/yf/F/8Y/xj/AP8A/wD/9f7u/u3+4/7Y/tf+zf7E/sH+vv62/q/+rf6p/qX+o/6j/qL+ov6Y/pb+lP6T/pL+kP6X/pL+kv6U/pT+m/6e/qb+rv6v/rT+wP7J/tP+3/7p/vP+/v4Q/xn/K/87/0n/V/9n/3f/if+b/6j/v//N/9n/7P/+/woAFwAsAD0AQwBYAGQAdACDAI0AmgCpALIAugDLANYA3QDkAOwA8AD6AAABBAEOARIBFQEXARoBIgElASUBJQElASUBJAEiASABIQEiARcBGgETARMBDgEGAdIARAESAYoAXQHPAJkAOQHFAKUA6ADaAKUAwgDFAKcAqACkAKUAkgCOAJYAiQB9AIMAhQBzAHQAdABrAG4AbgBkAGgAaQBdAFwAZABRAFEAYABFAFQAXQA+AFAASgA7AEUAOgA2ADIAKgAmABgAJAAYABAAFAAAAAQA9v/2/+z/6f/r/9z/3//O/9n/0f/G/8b/v//G/7b/t/+7/6z/rv+0/6v/sv+v/6P/r/+q/6P/rP+l/5//o/+f/53/n/+h/5n/mP+c/5X/l/+R/43/jP+F/4X/hf+C/4H/ff96/3b/c/92/3L/bP9w/2f/aP9i/2b/Y/9m/1//ZP9f/2T/Yv9i/2j/aP9v/2z/cP9w/3n/df+F/4L/kP+J/53/lf+s/5//tv+l/8H/uv/O/8H/2P/S/+P/4f/y//j/CQBpAK4CtgWC/en6cP0XAqUGpQMmAaP7Ufy2ACEB5/6SANQBbAFaAesCngPbAwT6PvJN/44LaPgy9JYNhvzR9GMFuQFwACcKNv/b/MICCP2hAJIE3AJoAVMB0f3n+hj44ALlAHb4W/+1ApP7yf42A5H8fv9hBGf6avocBZ0C+P7+/1j/wPuNAzYCGf8OBIIC1v5w/wYGm/uzAhIJiPyQBBr+mv64AbEDtwJSA0cBPQHuAeD6rgXg/pr+6QDs/1T9XwqB/zj9KAjD/34C4wRZAYP6awWQAXv7/QFZAJgAZv4i9kkDAP+lACP9RgHB+7IAuACf/BL+nvyKCCD23gREAWn51AFIAor3Uwkk+ygB9QPa+K0DafwhA3L6ivv0+h8ASQVwF4cDPAJ9/ib2QREXCW0IQvq/7b4K6ADn8jMCBf1B+jcOLP2J/8QBSfgqBTX2JAZHARb99vxoALvyevL6/7f7mfxOAYD9hv01+m/4dP7c+X8FqgHlAKn+9vzHAcT4WQX4Bj74kApl9D8DrfveBdQJofhyAP7/4P3H/V0SAPxjAvQBLvrk9z4M6AD2/pMCdAH8/YD3NxPu9HH7JArkAHDuURAMBLTy/w3R+Uf5+/fWDTLwmA1I+7kDHPg98rIOMAWm/uYBrw+q8yH+F/8TBWgB3gZV8U4VSeg1GwL79f2uC9P0FgO49tEXU/sMCbP0YgQs9DwMHgKL9Nv8Mgz1CM8F0vEj9+72ahYV/Yn8kv0w/csN1utJ/Ez/fhR28gYJBOxBBAUD8AKs+FsFXgZQ8tUSZuI8D5IOugDJ/+H6IAiU/isCwP6NAhoHDwKG86v3E/ycALEDBA2V8hL4QALNCcr9Y/n4/goLS/ht9o8VZfBRCGPvdgQkAOIWEPSq9/j9JP1ZCh7+2ACW7BgNgvMtEXf2VxcJ8NbwRgB0/T4ILQM9CGzz7Qqv+jsI+vp+CNEC4gTc+tsOA/zw8jH+WA1u/sf+9fuO9Q/6kO0EJcrwav///awCde/xA/0iugfB+UHyMgXe8cIKug5b7fL5dQeO5gb5pwLfEbMCMfJECR7xggh9B6wK7Pd79yv8CP6mBNEIcwPp8zr/out/CAH/dCSe6uEAfvdb5DMQ/fwPDBH3XApW8Jn/ov7cCr0EOvIK9jIIfgue/UoGkQOnCQ/2Rvs0AHYPswex9h4Ho/Q1+q4FVwFV+x0BaAqa/cn+vQYp/jkOMgA9AZ8W2v8T/sgDcvx/AQ8LofjeBR7ulf3gFkXwwPFIE/MIPu6cA7D9shGp+0sBZPigAMoKcveoCun6xwbO9yQBpezh++AJUAgc9fz+FwRE70IBlwNJArP07gsS9o/xYADwB8Tzwe+I/lvyqPugA44GHvy+9bT4ZvGjBoEN1/yN/IX5VgFM9Mj+9gbp+gUMHvnfA136FwUGDtX4ZPqR9EwSHQj5BgD3bvewAk8Juv2q/A8MXwA4CaPxnvMQByUN/QFu/ILw3QBBDIgHG/wA+YcGlQIF/xgCowq0+5wKwwDtAzH0LwZACSMF2wytAO0Fof17A2L83AQLAsoGyAzc/F3tLwgUANgFa//O+w0HI/zwAk77cQK8BEkDlP4CAB4G/wXVBBX/W/sBA4cELAGeAAoBtgIv/y34Lf8X+TYD9AAV8rMAUgRfASEA9PJp660BRAegAn0BxfcNARX9l/JKBVj8jf+xA9D0mviD9iAC/P7M+3/4o/rvAAv5AwGd8wD8Bvhn9D4CCQCnB/n0GvL69VIAsv7rAs4CUPyuBJ/6JwCA+Z0A3wFSAZX/fgBcAlD+1AJJ/YACPgiDCbn+G/+gAIgEkg0wCIL/zgLE/tsE8hDGFUsg9hFwCTYRHxXpIH4khx0MG8cYmBpBF2ccgB2VGD8QNg3IEwAXhRbFCpQAcvyaAYAEqQgCBlcFePtH7PTtcO2Z83jzJOtM5W/iEN512+nZPNjU1oLUJ9RC2LfcD9os1R7TN9f32zniDOXr4lrf6NuR1kffh+Tu6ZnoTOCo4+rhEuoR61foFe1A82P3A/fd9VT6SPdL+eH4Pv9wCPoJKwrbAggFJwXpD+cUJBoTHigaYRrrHwQmIzH2PbFHG0hqPaA9vT+/SExPX1DKUtdOdEgyRnNBzD+cPdw39jPkMI0riSQFHfgNzwaY/tL6cP3392zzy+jz3uzYa9WS2W7dNt7m3abco90O3o3h/+Zj7DDwTe7s8JjybPOH9nz0WvQ69NLxMfOS8lzuw+iB4jreoN0t3Y3b7dcM1APPbMiIxYDFmMTwxCTFCcVaxefDh8VIyHXJr8zF0e/WOeCU6Avt0e/78h73rvzfA/IK+g7uD+kP/xLkHsc89lt5YMBW9jp/L6U+jEpBXz9rNmRqVps9syveLcYwVjVWMfopaSPiGp8RKwhT//L26vTm8xf5lv1l+ZzvDOYD3ZPf0eXs8J/+igFi/zH5f/WG92f+9AJGCygPaRNPGMkXihV7D0cIVgYqByMI2wu7Bfr7Be1F4DDZRNdu2NjXUNZ20HTIisAevgy+g8PoxgTJyMoZzEzLAMgpyF/J/M4Z1Xjc5uLw6Sbs+uzl7e3wqPjc/rEH8hbxJHY5DVDQUS9OADqvLjs7C0lBV2FjElsxTKY4uiOVIoQgtyI7InsdbRP0Cm39KvW47K/jEeTO5Prpz++48Hft9ex85IPp0fBw+0AL9RKQFooZ/hQ9EkYTExFRGLsZvxoPG7MVQRLzEhcPVA3yBhn/P/7i+ZD20PLG65bk39wP1RzUw9OS1cvV59Ll0VDQsM/K0QHU/tYT21bdnt6q3DDaONhS1yvYM9ln2rHdSuOS6DPwqPVr+jQEoAwtFosr+z7pRb4/OC1NKuY1eD+jR2lLvUf5PmgsXxuLFv8VxxZ0EvQLWAXm/Zv01uza5Jvgpd+B4IDmMu3e8df0lvTi8cLzufaLAFMOHxlWIAghexyIGdMWRxbbGd0aOxt+F90P6gesAXv/FP9o+9D2HvIG8MDvRu1d6+HoceQZ4QLgceF75VDnzuYI5DzhZ+AJ4c7h++Le5MLmtOY24wLf8toQ2H/WAtb22Nzf5eSP6WrsvO4V9XD99AtPIlk8vUwDSso51ir4KU0ztDybRZBKnUQHMwgcAwzdB/IHxAbABOMB5Pwn9e7syuWT4VbfAOBl5uLwZvxoBfsICghsBRcFMQoiFFYgEymOLGMp6B80FVsMlwffBocG5wRmAZL64vHF6PDgBt5Y4Sjn2Oy28MnxifKd8l3zKvaX+VX/igVECWIJzAQt/2P5lvOP8Mzu1ux96UjjT9ww1VTQHM4NzIjLsMpsyo7MVs9g0/PaYeNq7ez3ZwTqFl8wfEthWNZTZkS3Obw8B0d3Tx1VylOgRlUuBRK2/9755fpz+iX4ZfON627i5trd11bZTtyc4Afp4/SGAbIKMRBvEuAS+BIRFX8duykdMpAyniopHg8RZQW+/m/9r/2S+7z1qu3m5KbcYdZF0+zTKddm377sIflDAasCV/8A/I77mgHGDHgWPhrtFusMz/7V8Efp9uhZ7Evu6Oou4kjXmc7FyQHJ9MkmyxHN/c3PzDHOKtNd3D7mCO/39xACoRCBI3c7/1BHWLpNCTw3L+wvpzfiPuFDUkEeM0gZQwAe88rzZPg2+v/4RPY+8Kjpaeer6h/wUfKy9Nb6VwWVD4kXvRzIHcYZExMID/ASwxv0IVYinBs4EcwEtfgE8qnxzPNy9PXxHu5T6ejjIuAl33/gF+JO5Cbq+PYDBmQQjBPvDgkI9QMZBNQJpxG8FVEUSQvr/CDupOMC4cniu+RG467d5NZp0R/Oqc1ZzfjMwMxuzf/PftQV3OHlr++U9u77FwBwCJkVVSmoQYVVg1p1ToM69Sp2J+EpJTAtNf01oizbGRsFmPeN8hry5vOy9b/3XfaL9ZD25Plu+yj6l/jK+xQDJQxfFjEeFSJiHp0UmwqdBjcI5A1jEmET9w9VB7f8x/OK7pbsSuyE7L7te+2n7AvsHuwV7OHqYOnn6anu8/kkCWIVEhpYFiIPiQjDA5kCZAWGCOwI9wM1+w7xF+fm35XcgdsM2lPXKdWF1XnXtdmi2pvYd9TN0BfQjtO82UziDe0C+EkAAAXmB9gMFha0JIw3lEcZTnRIWTz0MZQr4icKJ8AoYCrzJ4cfPhVEDCgFx/+//Gb7efkG9ujzMPY++5z/EgGzAC3/Bf2d+838twAmBjgLxA5wECQPtwvdB9wEcwMhA9ICSALNAIn+VPxC+i/4HPba883xwO/B7avs2Oy37rTx3PQ++IX8YADLAz4GagcCCCYHaAVrAzQBO/7U+kH3A/Tg8NbtEevS6GvnIOZj5TnlI+UU5arlZeYX5wTn4OUJ5bTkyeRV5k/pz+yP8M/zAfdq+pn9GQF9BfELdxQnHNIgWCHMHpIcahvYG6Me5yFGJMYkHSMbIT4fOh0uHDccjRxyGxIYtBOrD4IMsAr1CT4KWQpNCIYFqgLg//D9iPwB/LP87vwQ/VD91fxf/Bz8pPzZ/ej9u/wL+9X4GPe39WT1f/Zn9/73sPj5+N34OPid94D4Vfrj/FD/vAAWAXYAp/+U/+j/CQAhAL3/Z//q/v/9Q/2v/N/7YPu3+kf5u/Y689Tv3uyi6gDphOfB5YHjCuGF33PeiN1z3Ajb4dkF2YjYyNjx2frbxt5t4u7mr+vk8J338v6nBWoLlA9DE54WYxlXHTIjaCnPL0U1oDkJPUk+Hz6RPc88bjsYOSo2ADMeLxsrbScTJX4jLiG2HooccRlOFZ0QKQxpCD8ETABR/Vn6zvbz8pzvw+1H7Anrruov6trodOaz4xbiEeFM4NbgNOJ24wTk1OTb5wvsI/AQ9ED3ovlE+of5WPmY+bn5N/oo+2f85Pz9+5n6mvmX+B/3qfU99NbxFe5E6v/mp+S64uTgBOBp39/dm9w73Cncktx43UPeH+AE4jTi5ePx5FflSuaW5vToQfD6+vAGORE2FikZWRrlGo8b+x0mIyMp/S+hN1E9bUH5QaE+1T6CQMhCWkbxRntDrz0hNAgtzin9Ju4lOSUKJEAiPB7YGIYTAg21B/0DIwKDAHf8OPdF8rns4ehu50jouepC67fqx+mP5w/kv+A/3wngFOGu4qLkreZK6BrpR+v77oTy+fTp9t33QvcN9Xvy9/B88Crw+fBj8tzyxfF87zrtaeuj6SfoheeS5tTkruIW4e7fdN7w3J3cbt2F3ozfrOCi4dbhAeJU4/DlK+kH7Gju3vDl8pf0f/bV+c7/QQduDxkXRB2NIfcjEiWkJgYpuSuoLx40yTiMPII+LT9AP+g+Dj99PzdAuD8YPRA59zPhLnEqtiZFJHEi/x/5HVAb3BeME3EO3wkEBv4BO/5f+un1IfFH7IzoQeaW5JDjX+NY49HihOEY4KveQd0x3PPbWtzI3LjcV91S32nhP+QI55XpCuwy7bjtJ+6b7TLsKeuk6rXq2OqR6h/quenU6BzoM+iM6F/oV+gf6AjoIuje59XnNejD6Ljpcuvc7BTvqfBe8pv0iPY++Az6Ivxp/g0BRgOyBeEHeQlJC94NcBCwEnsUpRWyFmIYXRrnHLofCyLBI2QlVyZ5JjgmkiVbJU8lRyXPJWomIyaiJf4kNiR8I7Ai+yFZISog0B4RHfgayBhnFn4UJBP6EcYQbg/RDQEM9QnnBw8GDgTpAd3/3P28+1D5+fa29K/y+/B67yXu5Oxv6/rpxuiB51rmU+U85FDja+Kl4SfhsOA+4BvgUOCR4PvgguEm4qPiF+Ot40zkDeXX5b7myOfV6PjpK+s/7Entd+7T71/xCvOC9Pj1mfc9+bD6zPv7/Ij+TQD8ARQDcwNFAxgD6gLkAlgDSQS8BVwH6Qj1CZgK9AoDC8UKewoqChUKHApJCq8KywrKCh0LsAtvDGcNPw7uDigP8g5oDuENbw0bDdQMlAxqDGoMkAzXDFkN1Q04Dn8Osg6jDnsOSg4IDrcNYA0BDdcMswzBDPsMOg1jDW4Ndw1uDWQNOw32DG8Mtwu4CpsJmAinB8wG9gUYBVMEjgPOAgcCIgEgABv/5v2r/HT7KPrb+ID3RvYu9VT0ufMz85fy6/E08W7wiO/A7jHus+1I7QHtzOy57MPsuOzA7OfsFe1K7Yrt0e0Z7nPu8e6g71Hw+fCp8XnyVfMT9Nz0kfU/9ur2n/c7+Ob4j/km+tn6d/sS/Iv83PzF/FT8G/yx/OX9Sf+RAJMBJAJcApEC4QJgA/ADWwSHBIkEgASUBMwEMAWZBdwF5wXrBd4F1gXNBcMFqAV7BVkFSgVbBYYF3AVVBtoGQAeRB8oH4AfhB/kHJQgMCVwKigtIDIkMcwwTDKgLUgshC7sKNQqhCRUJnAhcCF0IVQgyCAgIqAdVBw8HqQYrBocFzAQtBLUDTgMRA8YCggJRAhwC8QHtAe4B2AGMAQMBdwABALj/gf89/w//0f6D/l7+Y/5x/mf+Qf4E/rP9Vv0F/dD8l/xY/P/7hPv++oP6NfrN+X75SPkL+dr4nvhR+Bj49vfV99/36Pfh9+f32/fd9+73Ifh3+Nr4Mflt+bj5/vlI+oX6zfoG+yj7RPti+6L70vsA/Ff8l/zR/Cn9ZP2R/eH9H/5h/qL+1v4o/3L/u//+/z8AeAC2AAYBVgGjAd4BFAJBAnECmQK+AuoC/wIJAwcDBQMkA0kDWANnA2ADTQNGAzgDLAMnAykDLwM6AykDHwMgAx8DHAMYAyADHQMfAyQDHAMRAxADGgM6A1kDegOaA6wDqQOqA6kDpgOZA4MDbwNVAzgDLwMtAzMDKQP+AvMCzAK7AsYCrAKUAoACUAIqAhEC7gHmAdcBsAGZAWoBQwE5ASgBDgHsAMkAnACFAHYAXQBJABUA1f+h/3r/Uf8m/wz/5/60/oz+cv5Z/kb+Hv4E/tL9qf2S/XL9Tv03/Rv9Bv3v/M78zPy1/Kf8ovyk/Jj8pvyN/Jv8m/yx/KT8v/yx/ML8yfzY/Oj8+/wD/Qn9FP0B/R3+Q/4e/gn9hPxy/FP8lPzq/Df9s/yb/F783/zz/Fb9hv0s/fP8pPzU/OH8mv7Z/10AY/+d/az8IvxM/B39uv2V/V79zvwy/aX9Sv7U/pz+JP7x/cf9rf4Q/6v/yf8ZABsAIgGQAZcD9wP+Aq0D4QO5BgMIMAxZDT8OTQ0HDhwPWQ71DD0IsQMpAf//VP1J/Ar71fzu/Ij8uPqt+Pj1ofNn8vnvLe7c7dru8u8+8pLzuvW49qP3Dfjd+Jz5bvrD+o36sfuE/EX/6wHvBZ8JeAumDDAL/AhuBU4ECQV/BjkH2wcBB9kFVQYLBoEFGAWPBrwFEwdfB5YJeQtQDFIOug5YEswUFBfLF4wWpBVKExcS3BK2EmMStxJUEpQTdxKwEOoRkQ+DDUcL4wcJB+QF4AWFBZoFJgVnApUAif5G/t76Gfpv+AT5Ovdb90b2hfeJ+Ij3d/o9+Un5xfQl8f3rMPHV8NX0hfIi9LjznfHw76LssPDu7sTwf+xR7gPqSfBG8l314PmZ9xHzk+u760HrpOZU5ubpa+/e9WD8cPll9DPyR+6l7h3nVumJ5g/t5PTk+Cb7Wv7iBFEFLgRy/+X9Hfs4/Yz+yQGPBI8HVwmyDAkP9RUdHzAl9ijhJrIhehkkFY8RMhJCFTEceCIqJdgjFR+BFjoP0Ao0Bt8EXwLMASYB6wDM/5//cP3B+3z4wPNg89fxjfJc8zHyMfLs89H1VvkC+2T6g/k79ub06PJd8Czw3fCf8mP04fWz9X31cfN28lfyNfJc8zf1zfWq9L7y5fEk8/X14vmI/noEugfACTYHQQOc//v6lPnz+aX5SPq7+r/6UPqr9wr0cvGU8brxB/OW9FH1uvRV86vypPLW8WzzlPdS+vD9n/7t/RT84vmr+jj9CgBXBF4H4AjvCsoKCwxbDDQONxDoD0gOMwu3BlkCbgAbAkwOPSH0OD1Ro16hZPxeN1AMQnczMStRLJ0x9zq6RAdFK0CLNFEkAxguDawDqv9x++X3p/et82XxVfB77h7xu/N/8hPyRu0L6QPpC+m37TP29f12B5IO1g6uDBAEHvva9QzyWvFY8vzymvT39CLyaO5c6J3hGdz72HDWNdV203nSktVV2fXe5uTB6Frsde/V8mr5Hf6jAnoEXwS/A8n+ifnJ8dXrs+dE5WrlKOSs4CLdI9kX2KjX89bL10HYS9rK2wHdOd353SrfvOJx5iTpmumd6Lrnsuez6LHqne4L8zn56v68BIoHVgi+BZ0Cw/1r93bxmPDN/9MeeEZxalV+/39dcmhXdjusIqIVthaTI942YkUiRac1oh5bB4X38uyg5qbk2OSI5T7ouOhi6WLscfLn/BIG7AdPAiX5l/L19AX/Yg/8Iagw5ThzOBot0RqgBb309e5Q8Uv3B/wk+wT2Me4U5UTdz9aS0eHP2tF61sHbe9835NHrMPbGAF0IiAqLCH4FDgReBoALmBE1GQoixCvcMgsziys6HXkM3Py28D/oHuR95IDnmut57TTpBuH212DR39AH1S7do+fw8j3+XgbLCuUKTwfCA6oBhQB3AG8AyQBsA4AHxQocC9sH8gGh+kH00u5A6oborOnh7bXzAP7zEZ4v8VBaaNttQGTRTzI5wCj7Iqwp/jezRmdRKFHoQX0mPQfy72Hkr+Aa4aPituJu4o/hfOHu4izkg+QJ5kTow+nf6gXu1/fsCPMcBC4vN1A1fyoYGlkKSv8T+WX4DPykAOoB3fvI7hbfxNDIxrbBfMAxwVbDtMc/z6TYcOHD6NLuRPRZ+CP6h/om/MYAYglVFOAezCV7JmAhvBfqC6r/lfV+8gX4JwIdC3UL8gEx8oTgV9NGzEfMr9GC2RjjI+up7mjuzuvK6tbt2PJg96v5xfol/G7/swRWCZYL7QquB30C9ftF9GztrekT6q/seO/v8Hbv1Oy36aHmC+RN4ovhD+Th8M0Pljo8Y/Z3YXEuWu49gSYMG1wefS3PQUtRVlafSjAvsQt/7bTfut+H4znkoOJb4D7gzuHa5OTnw+mq6U7pSOo57IXwbvubD14nmjoNQVg52igXF7YJ8gSnB7kMXBGsEiwOVwKn8C/epNHLzI/Nd89+0MzQ+9Ho1qvf3ugn7+vxw/LB9B341PwuBLAPiB0MKaMt6CkxIOcURQzNBw8H8gY+BVQCQv8/+9H1ge9367rrxu5h8fXvVOyR6BDoYexz86/6g/+lAToDOASYBBME8gJeBOUGnwl2CtAHywPd/3r9xvzj+i73VPKL7hjuNu9c8MfwkvCL8MXvme0K6xLqS+xK8f332/wC/hT8+fgG+Xr+lA4WLftQ3WqObJNWyTiUIPgV3RoiKi08gEZGQ+8zJBuj/szmv9um3x7q7+8n7unod+XV5VjoxepU6+/o2OWv5m/tTPndB4oXsSWDLPUnRRrjCgQC/wJDCxYWjhwoGswPLAGR8jrmOt1t2ZDafd1r3t3bX9jY1snYpN0B4zvmxub/5mLqrvId/ksJzRF2FmsW2xH8CjgGywZaDIQTgRfWFQ8O/QL1+EHyde9W7pntBu1l7NrssO627yHwIu/D7B/sC+3G8p/7/gThDdoQ2g6SCI3/W/ra+ar+HQYWC+8MAAobBBz9d/VH8AvupO6M8mH2mfiJ99Pz0e9i7GLqA+kI6IPpR+zE71rz0vW/+CT6s/mS+Lf3H/lz/NoB9g70Jt1FHV2SXrdL6zBSG7AUUBxdLT0+REU+QLEwdxrDAejtcOaY7KD3iP5C/Jr09uyX56LkCuNt4bLgFeN86rf1fQBoCMEMGw/MDnMLageXBmALFhUgH1YksCFQF5cJgP2O9gj0sfOH9Dv1hPQw8d/qeONc3QLaN9rq3J/gF+Re593rJPE99eH2GfYH9qv4j/3SA3AKOhGiFlUY0hXRD5wIJQOmAcgE3gn/DIsLpwWZ/XP11+6Q7JfuMfNZ+Iz7evyZ+pv3ovTl8qTz8fRL9hr41Pri/bMAdQJ5AmoBkAAmABcBEQOtBH4FgwVOBGYBYf3K+Ir1dfRF9a316/WC9CPy6u8073Hvb/Ck8qL0L/dz+o795/6k//X+uP54/g3/6f57AEcHLhnrMdNER0YuNh4hMBJ/Evoe7DBvPLE9AjSfJu4Zag8jB8wDYQaKCxcPLgxNBbn83fWa8AruP+ur6F3nPOo58S/4VPpg9Yjt3ufW6F/vH/n6AOIEsgQcAif/Cv30+7z7nf2JAG8D+APTAff9Dfsb+Yr3h/VS8wvyBPKA8wz1cPVg87LvTOwC7GXua/KZ9Yf22PUg9Q/2Qfhs+sX6y/kG+Sj6s/xX/6EAQQA1/w/+r/1U/Vz9af5GAP8Af/9d/RT8IvuU+lX7nf3+/80AUf8v/Wv9sv7iAE4D8wWqB1gIwwagA/z/zP5KAWAFGwhIBoIC7/5W/mL/WgFsAWj/zfx1+338zf5VAccBmf8m/Dr6OPuD//sDCgbQBOMB3P8VAHcCGwWZBg0GWwQFA6YC9gKZAxkEWwTLA7cCCwJbAq0DMgW3BmMHHgcTBmQFRAVABroHPQlICnAK8glLCVoJvQlUChsK3glWCWYJ+gl7CgYLsAoLCjEJgAjhBwMIngjDCBYIxwZwBVoE/APoA8wDfAP3Ai8CfAGeAPz/W/98/qH9d/x0+5n6HPrQ+XT5nviB91L2UfWf9CP0h/Pn8nbyzPE98b7w9PAd8fPwTfCM73rv5+//8NjxcfLY8hzzm/MX9Hn08vSd9cH2A/hF+QH6lPql+hb74vvK/N79f/4q/5j/HACnAC0BbgGUAb0BQgKrAnsDswRdBYkF/gR4BMgEqwVWBogGogYSB80HHQikB88GnQbaBlwHmAdBB7sGWgZWBiAG8AU3BYcE6gPWAykEVwQtBGkDdwKSAUcBUgFsAWUBNQEpATMBKgEaAdwArwB/AHgAfwCVAMcAFQFuAaIBngFLAd4AuAD4ADkBnQGUAUwB5wC2AMYAuACDADcAMwBjAMcA4gDrAMUAiwByAH8ArQDoAC0BbQHAAQMCaAKYAq4CvwLbAv8CCQM8A4YD3gMABAEE0QOPA2EDPwNOA08DUQMWA9ECiQJIAg8C5QGuAWoBGgHGAHgAPgACAKH/L/+X/iz+z/14/ez8c/z/+9f7dPsr+4z6Nvrz+ej4GPjo90n4Rfju9yf39fbL9s72ZPY79l/2bfZt9i32TPaL9tT22/b49hT3c/e+9xb4gPgO+Zr5Efpq+rT6Eftz+/r7lfw4/bT9CP5Z/rb+Rf/Q/0IAsAAeAYMB0AEaAmQCqALvAigDdQPCAyEEagSmBOIECAUnBTYFdgWkBfQFDgY1BisGSwZLBnkGagabBowGyAaOBlUHMQk0B+UDEwK5A40FYAWpAzgDQATuBD0ECgMgA+UDSwSgAykDFgNdAzMD6ALdAigDQQP7AnsCXAJ5Ar8CpgJJAgkCDQLeAdgBxQGZAUMB3AC4AJoAEQENAf8AOgAbAHMA2gAEAWUAMwA/AGwATgBMAE0AoABuAL8ATgCs/xsApADYABwAWwATANr/QwDzAGj/g/9IALwAZADk/jb/8/+cAIr/Vf/X/hUA/v/P/kv+dv7R/6P/g/5C/CH+s//5/Rf+vv0B/zAARP8JAGwA7f9n/vr81/wZ/t39cP0n/W38UP3n++z7j/y6/O/6GfpQ9+X2+/ofBG0Isf2m80T2+f4RAfb7SvZn+iv/9P8i+kj6gfps/sb/9wAdALX7qP1+/AT+9fsm+8X+7v4O+0n5KPjS/+IAMwC9/vv6Vv5aAWQD7ABX+lf7/ABtBHcAVvlb+mr//AQ5BC78V/qOA0cJ7QFx/GP8sAUuAu7+PgKJ/Zn9VfhpA7kVqBgJB+n1o+9CAQEEDgOw/fz2SAFOA+YEdwCb+S73LwIQBRcJnQKx+OP/ffyCAzwB/AMyAPkDnf0D+z4G4f+bC+z3VQNV/foKBgTQAaX+V/vsAjYEpwSGA+EAbvndCEABAQjv+Q0HNwEDB479FQY7AbwJK//E/BECoASGCzD9nwZN9ysFkAVUBXj+PwCOAgUIcwaOCDIEjgUj/X8B2wPVBaX+l/+5Blr+zQBgAKD/HADHBl37M/gxArgB6AO1AQ77ggCc/rsGr//tAeD8jgCp/cUA1f3v/jAF2QBgAHX7TwHR/KEFq/xk/5H6hP5iAm0Brf4Q+Rv+Uvg1BREAwv/0/Jf8Y/zx/f//6wHKAG739vw3/qICWP85/2z6ufvw+1kCYP3tAQwAxvzsAEb4zwHi/WwBDf2p/dH+gwPX/Hr+cf54/U4A0v04AmH77AKw+0IASfopCDf6lvv4AVz/ZAIj+LoCzfe8Bij6GAJR91gC1AGi/dH96/mfBCb3tQhm/vv9N/XVBYn/9v5z+9n8LQHR/LgJy/Ra+Gn+Twk0AAgAhu+HABcCqv/rASoBQ/7w9p8MCAEwC471cvzwCgX3h/su/QYBww4/+jv5U+zZCP8NYgnh80zvZgbU/2MbEu8U+Lb/3ArzCZjvT/tpA84Qgwly8hf+svyzBEwTM/YD+bYEUgO6DEUMuglY41vtFQstKmcMFuYi+04BmAX98SAQvAMZFw34ce/K9SgGwB0BDIf55+rd/YP91xqSCGf3tvf28vf9AgOiAuIa+PoD74XnjgvlGFsAWfvt+kbwTAXIGU74tACd+HQAO/0bCWoEtQSG6DcJKgnqA637LPH0EkQEnQU27VTqnxkkFRz7rOol67IS3BGZF1/sqODf90oXdgpqC4b1r/BwBLgAkPt7AF8FuAGlCdzwRgC182EEkwzJDKDyou8i8bcS7Qnh+4/3pfihEA3wAAYY6XUKIgXoAzER1vsm9MbeO/0pEbwTy/s+A6n1OfRW+4sA1wLgCtMILQF36y/1bf4hBiIYkfcyBV/a+wNcEtQXY/dq7PD/VQF4EXn7Owll62MCxwpQDIH6OPcq8W75pBJV/zcG4QHACDX8KecTBMAGjBYl/cHsxvLUAf8UGwji+xLuZP2/AssKG/x6CokSlgG97tvuP/s2BPQZVApu9Kn2QPFt/NP9PwmoApUG9Qvm5y30PfYUDXwJMgwpBgb7ifgz+9z+T/eVHK4KfQkg5pHtzPv5BjAf5P/3CpvunfbQ7o/4vAWND7IUOvTI+AXo7AXKC1UQBgb373frYPMiGZoS6gtC6cfzl/7DAcj8WPJ4AFsKtBCU/xMAyuqdCGQFkfQs8+n9IRWMBXAGDuep4U/yQRG1GdMI/QFc9ODxtPsgCwEMygtKAJ74RwF872YB9BLPC+wIyOI85kEAeRirHB4Queqo5lnyq/4/E/0J/BPg/OHuAe9t9OAH2xOYHL4DRuZd6aP+7hizHXMN+/gh51z1NQxZBaQMa/i6AnkEEvjX9lTtTPmaBagKkvX7/Yv+eAP7BRv88Pe6BPj9DgwXBAz9ywr/AtkDyfqw/wv8kAFn/1QCJQjHBQwEKPpI/wn/9vbD+1b9yvzL87P6TQiGCtwCSvMS6cD9uwWmD9oJUgRy/5z5zgLj90sGfwELCzT7Ie+g9Ff+hRFPAwf02PDr+gwEIQlLBtr+LPoJ/Mj5ffSG/LMAtAiND6X5Bfgk9sMBmQeiB7ICZ/6fBJn8ggfe/UMEnv1G/6b7UvVC+hoB6RKlC48JAfdB+W/6YQB1Bz0P8RKdDvoKufv/+vH4ZAhnDXgVhRFsA4YA6fqCBaQFrgtJC1cGKwPUAcYAJwLRArr8hvoA9nT1CPxaB38FMgLM+czy7u618YD7Bf/4/2T8QPIQ9FXxJvR592v4xP2L/Kf9Gvgz+mD/LwbUAd/+OPal+dIAUwLVAsP/LfyP+Jz0TvBH+YT5f/0P+g713u7K74HwQ/bN/c74MPlW9FT9Xf7W+3z5Pfa6+t/76v3i+e8ADgOXBmcD0vdL9Gz2Pf7rAmgFyAMkA1MEogSq/toA/AFDCR4JLgiUB4sLJQ0aB+UDDv1V/6UF0xClEloMcQE//Zb6Iv8EBSwNzBn0H/wckBdmEOwPaRUBGrQcXRzyHZUfiiJWHXYXhBEfFNoShA+NDUkNMRCvEEgK0QNV/3n6/vwf/Wv/6f8O/lH6BPYD8//wi/Gf9Mr7dvw/+aL25PNA89LxYfEp8aj1o/rz/MD5ZfPE7v3rGuw47rfy/fOr9JrxAu0K6dXm2uiS6dHsMO+x8OXwNe+s8LXxh/Ny8jbwGvHw80j2cfnO/aL++fxi+yv6YPo/+y/8Vf/VANb/C/yd+Nv4I/g696n42Pn4+gr7uPsA/NH6+flB+eL5Ofop+Yj5rv5VBesJqApICYgHTgYSBsIFfwh8DFsORw5JC94FJv9Z+737AP4bAocG5gmcCmkH8wLe/vT9QgAiAhsF+AY+BosGbwWiA28Ao/ss+rX5R/wiBIIRqx6NI8IfexcvEH8OUBIGGjYmpC9HMW0rYiEGFj4MggjkDPkTtBemFRoP8QlQBJz9pfkt+Uf7Sv3s/M/7h/pS+uP66fqg+un42Pbt9lT4DvmC+m78q/1g/Y/7K/pF+Sz4zfcQ+On46fim9in0tvK/8NTuLe247NLubPDP8I/wJvFV8i/yoPKQ8pbwG/AG8bvy/vRC93b5TPpu+4L70/mJ+tT77Pzn/7YC6wIEAUYAlf8k/Rr8xvyW/l0B8gFJAB7+Kvwh+S/1pvMD9JT0g/Ue9sP1mvTs8nvyNvTK9438pwHlBUwJVwv+CtsIuQZYBRgFxQZBCOwIzgpEDGQI0AF4/Sn7W/oF/E/+AQArAmQCef9p/Gb6dfmV/H0CBwaBBZAEXAMMAuoBDgBc/av9EwDTAz0MlRe7HBYbYRhzEgsMmwvsECYZkyJdKYwpoCNKGnoNCgNHAZoF9Qu4ENcRQQ/GCHn//fdG9UT24Piv/UICkwNiApgAo/5I/o7/X/+x/gn/nP0d+5L70v1M/5n/mP5s+tv0V/GA75rv//J/9m349/jw9vHxL+2J7K7uovGQ9Y/5s/r/90P0ivIQ8771y/my/CX9JvuT9yn0sfNT9gv5Evx5/xEBMf8T++v3hffq+X/9lgCDAeT/mPxX+qD5xfki+6/9aQEBAzgBcP3W+h/69/kA+QP4mfZ481rweO6V76bypPh2AEkI0QyoDEAJUQWnAev+f//FAoIHjgrHC7QJmgWwAEX9F/z2/Gf/qQGrBJsGywY7BAgCdgDd/yQAwABiAdQB7AJkA50DHAJs/yr8ZPwm/mn+8/2M/vX+pf8bBOYLphMxGKwZVxbjEVkN0QrqDEcVOx/hJWwnUCP6GfgNGQTv/hkAgATKChoQaxEnDMIEFv7L+Fv1bfYg+7//DQN/AyAD4wLyAl0BfQAoALL+bPuJ+an5ofoH/Kj9Gf+9/rH7sPYe863xgfIq9AD3ivhs+A32HfOj8P7vQfF480H3qPr6/Cf82/mR9132L/aw9hH4evmg+D33kPbh9oD2B/dW+Rf8T/7T/rn+Hf7r/gL/YP9r/0X/6Pwk+qL5ufky+uf6O/3E/pD/gf7K/Kv6TPoV+1r8IP1f/Eb72fhF9+D1SPZZ+AX9vQGLBFIGhAbkBdEEwgQhBF0D9ALGAiMDzgMwBZgFCQeOBk0C//xA+dH38vey+7sAeAbdCtgMSAqyBVkCeAHMA3gGbgfYBdMEsALy/rj64fb69Sf4Qv2KAaYDygKM/wX9S/zo/UsBFgZxCGcMJxFeE4MQ3wwDDGIM/w+MFPEYUBwfH7EbCxRwCykD3/u3+uH/BQV2CEMJ1AclA/D90/hq9pz3Yvso/3MDRAZ9BsUGIwcoCLUGAQWbAgQAWP3Q+WH4Dfqn/C3+uf4f/XX5//Id7wztK+1a71jzwPio+4/7gfnQ92r2s/U99c73RfrR/F39DP1X/Df7z/kU+E/38faw9tz1+vel+v/9+v5IAJoAZ/5h+lP3v/ZP+Bv8+/+3AlUBY/5w+FD08vKr9Qr7cAFNBqgGAATG/6783vmj+iH9TQLYBfgFvQHs+gL1v/Bs8X71U/z0Ao4JMQzdCsEGzgHN/HD5fPlX+5z/BAV7CmMNig5mC8cEmPzA9ZDygPRj/MkFqg4sFRgXOxOfCgn/DfW68DbzF/rrAnsLUw8jDbAGMf7o9//1Hfih/e4EHAw/EEkQuwyVBVn+nvgq9KjzHPaf+jP/AwTyBygKqAugDF8MYgvuCU8GwwMgA1kFUQgkC0MMYwokBoMBNv8xAg4J7RBAGG0bABg1DtIC3vjc9Nn3hf+3BksM9wwiBwT+dfeG9Wf4zf7jBcIK/woMBzn/x/be8Lfwo/UZ/YQCBwaFBcECB/739yXzz/Di8VLzF/V79lL2CfV99cD2a/c49/T2q/em+E74JvdJ96P3hfeP9n/2oPTX8frxRfQS+UX9bgHGAyoFwgRPAYf9dPsf/Jr9EQGMAksBt/zF95j0o/Eu8WvyEPh8/RMCegRYBbkEQgJ+ALL/rgHcAmUFSgVrAhT8c/VC8NbtTvBI9KL59v8lBisIhwiiByUI1AlNDdYPTA52Cl4DxPxp+Pb33vgW/LsAdwX9BlAFawD6+3X+9gLMB7gJYwzsDZcPfQ9WCxsF3wHuASQChgEC/8T9Av53AJkAuP9YAOwDHwc2B9wBdft29/73J/2IBNYLHRDcE04T6wzjAW33KfK/8rf4Lv9ABKwIHQvyCXQFv/+s+/n85gFXB54IpgaNBSgEsgJZ/h/6PPmh+/8ADQbHCPIK4AzjD4ETshMpEbEMNwukCoMIlQWXBMAE+AW9BC4A+fkV8yrxaPBs8qDzuPaE/OECWwYABcwBr/5k/bT7//u7+376wve99i73/vbZ9YP2h/nz/AkAqADx/lT61/R78K3u3e548aT08PiD+177Svjh8yjxDvF98uf0ePjC/L4AMQIHAWv8dffA83PyhfLi9RX7egAnAzQDtgLPAQsCWgEdAT8BpgIuBFUGQgfYBg8G8wNY/2f3PvB57Xjxe/jM/z0EhAdoBooBMvx/+M/5Mf4DBrcLMAyxB6gA0fl69a/zOfdg/TwCIwS9AhkAtfyU+uL7OwC/B+MO+xJ6FecTlg0jBGP6OvQH8hT14/oPAUMIsAs9D7gOPAygCAgIEAyLDWkNog3MD2wSTBFDDH0HUQKkAG//H/96/Rn7avzOAssLxRHfEUkPKA25Bx//V/fi9ZD8cAYKDo4O4Qba+4nymO3y7AfxuvmjBPQL6gxWBl7+/fjB95z41PkU/Hb/HQWhCS8L0wnHCUINXg4jDAIIjQVGBk0GxwQP/yz5xvVl9cL1pPT+8UryRvai+3AAKgLkA0kD1gD0/OH4LfeT+GP8dwAYAvIBcv8s+vv11PLN8dzyGfaL/GsEtAlcC1UIkQPX/bb1XfAt7VHtnfAa9G/4Zvna+Jj38PNG8rPy8PX6+xQAZAGJAB3+nPz3+N/0WfGg77Pzq/phAO4COwPoBOYGrQaTBE4AiP7k/5sC8AOMAWr8mvgl9jL1lvST85H4CAFYDKkSSxA3CcsBHv+nAMcBlAHTAHf/pAAo/vv4Z/Ie8S/4HAJYB8YH6QUtBGsDDgDTAIgCXgb1CbMKOgiV/9n3CvYj+SP9q/6/AEcEGAcSCPQI0w3lD4kP+AmUBBoG1AdhCs8GcQE5/sj+4wUfDTAQ2hONEn4UvBVSEbkL1gGb/6f8ffxq/q/9gPvc/V4C+wyUDvgL5AVz+/b38vPU+t4EYQ7eEVESZwoPAmvz8Ora6z7yDgBTByQNZw2uCU8J0Qp3C+oQGxGFEmMMxgCX+F7xt/OL9rf1VPWK8qvy2/Mh8V/yvPMM/CoJ8RHPFQ8PNQU4/u78vP0M/gP8MPv99qXxQO8Z7rrxx/Pa9VL1DPU59L32Ovq8ASEInA2bDwYJBP4/7kLky+HQ58btkPGC78ft4et97BvwjfUS/mAGYgwjDcIKXgZBBf8DrwNI/hT6QfdA823sweSN4ljow/Pj/O0BYgJMAoUACgMcBfYF+wfWDtEVyBMVCMP6v/LY8GryjvJ593P7gf9HA1oDrACX+x3+Uwc9D34Rzw0YCgAJ8wj/B2AH9APuAksEJgQwARX9EQDsB6IN0w7bCXoEbgEd/ef/yQUhEPoUYxIdCFb8H/ec92r+hgMZCDcIawrKDK4O+AueCTUJEgvoCkUF7QDB/O7+SwIABjYKTgkXBLIBfgDuAdUAWf+mAQ4EuQnpC6EKOwZp/qb5k/sEAcQEnAUoAwn/h/jk8rDxAvIU/CYGPAyFDGEENgKiAmUFIQTv+tX0UfLK86b36fjJ+pD/EQNvBRcAcfcc8/DwwPhC/Fn+PQDgAHMAU/xl9rr0yvUL+wkD3wZZDYcJigdkAvr8gPey9P/4XP+lA1AEvwFb+3P32vDe8NLxX/UV+fD7zQCJBL8GdAjdAzz+K/wq/JP+Ov1B/2IBcwJqAUz6bPKd8LnyXPrsAPgDJQP0AawBrfuL9fLzq/ig/xkGGAUG/7n34vbf9//4cfke91D5VvymAr8GngkCC/MHGwXN/kn0p+wP7NXzwv9MBDIFGwBo+gb2YfP69yf6Lf/kAo0ImgytErATCxBqB6j8efkt+20EwgdXCS4HiAQ//iH4y/D/77X2uwA1CZcLHAwdCPsHgQrCDCAKuwj/BQ0KYg5oDX0Grvt3+CT1MPu4AEoDdwNABJEIWAhcCE0DgwSkCgoTFhSQDkEHw/6i+63+HgR6BG4A/Pi69db1fvxfBcgRBhcAE1UK1QD8+j/6lAD8BRUK6gfgALb2se5b7aPxDP+OCXIPyA6sBzUB0fq//Hv/vwUbCjYKSQMu97frlOX+7Gv5hggGDZYK/QNL/WX7evnk/vUDOwaDBW4B7PqZ88fwcfRC+Kj7ovvP+DT4ePm4APcEZAf4BogJVQg3BbD9bPVx9Of1uftb+ur2TPAw7iHwrvSo+FX/Lwd2Di8VfQ+HBcL3e/OB9c/4APuk93rzRvMc9m73T/en8RDw7PJe/fwIDRSWHS0d8BKzA9z1v+lr59Lp2vYfBNII0QW0+JTwkuix6cL1oQFiDM4SbxUVFZ0NBQW0+7/xMe4l7wb57QNABlwF2P+r+r759PqgABADKQgPDgoR4xGRD94JDgP5+wz0B+547N/0OQCUDQUQUQbL+EbwBvNg/UQMERVVF04T4g2BBKf9L/eY97X+8QOzBIb9wvpx/HwDMwgpBoz8LvlF/E4FsgmoBywI7wfgDC4MyATL+bjwOfET+r0BgwTU/xwAZAKyAWoCXAKpCAEPbhHkDKwCUvvU+uz99AKXAQb93/kb93/42Pea+Y7+/AV+D5cQMgrnAZv7HPyl/csAfQJQBWoKhgrXA/P6RPZ292n+HgGEAR39ZPxj/9cEsA33DFAJ6gPO/w/7Nff++az/9wMpBH3+J/Xq75DxFvzIBOoGhgUMBJAEXQOhAWQApgHKArcCA/3U9/D2QfycBBgFff629BXyt/edAAUH2ghABvkEFgRbBJEFNQIf/+f6Wvdp9I/znPnb/BH9U/vJ+V779vtn/FP8Tv8wBaYLiQ39ByD7Be5A6o/uW/fv/bsAmQBj+kf0hvDp8TD4dAArCisP+g77DBYJBgOG/C/3qvb69kf4Vftp/lIBzP/t+hD1X/A09Nj+kgklDRkICQIBAMICAQfKBmACwP1P+2T6bfeH9UP4//2aA6UDf/4C+4r7wwMTCsoKMwYyAksE7AdfCRkFef5295j13Pdu/rIC+AbiCOMF3/9U9zn2APt6BFELVw4lDSsHhwA++5T6Of50BaoK5QhWAQz54fWt+UwBnQYoCF8H4wURBdsEvgQCBiMIyAi9BpoA9Pru+IT8fQB/APMAZwAc/z399P/CBYcJAg3RDD0JkwM1/7r9QvxU+qn5K/yDAEb/DPlZ9eH24v0RBn0KbQipA/8CWwayCaUIdARx/j35CvVF8yX3DfwUAOT/Kv5F+gz5av6+BLIGPATlAegCrgQxBJQC5QA6AKj9O/vo+EL2kfXl+KH7cvwa+1r7avxq/soA0P8mAMMF+w3xDb8F4/xD+BX4UftUAKsCMwAy/Lf49/Qu79vsKvF0+pUD9QjICcMFTgAS/Fv8VwF8CTcPvQ4sCM3+C/fk9Kz43P0V/nD5nPWn9r37kgEVCM0JFQZk/9/7gP0lBL8Lmg7yCYj+8fRY8MXyw/aX+y4AtwIOA84A2Pw2+oD87wI5CfULRgtzB40DEAI5At4Ak/5p/V7+MP0i+hH2hPQ69238PgJ3AxYBZf7TACUHmgzyDO4JxQXSAjwCvQJbAWz9O/pj+Q77aftT+w37Vf1PAeAFRwc3BpsEzAPbBPYFKAT8AFMCcwZ7CK8DqPvw8j7wP/b4AsQLBA0JCmkEif/T+838zP5GA7gIuApVBrr8ufOG8Dj4uAVlDtQMUQP+9zz0mfqrBCYKtwijAln70fhH/LcAfAPbAsP/8Pso+cX5hv1CA/cEnwGQ+0z2Q/N+84v49P36/yL/NP7w/e/9BgCQBFwIxAbWAYv8p/mr+Pf4nvt2/oj/8f2k/BT8BPxm/EIAKAXMBrEE8gFNAN/+ev63AHUD8AIi/3j7ifoL/BwANgTmBs8FPwP1AdQBNAHw//QAowQuB+MFMgLy/sD9M/9iA50GnwX9AWsAtgFnBNcEhwHN/DX60vsKAK0DewOl/+78af2z//gBhQSrB2wIzQVdAJb7MvmT+5IA8gKHACD7fPab9H/2XfsBADUBvv9Y/Wz7iPmo+pcB9QhFCoUFL/309Sb0wPnBAckElAFg+2D3rvft+40AsAKVAuYBTQD8/Wf8RPw4/jkBNANXAVv8zvjf+dT+FAMyAyoA7vwt/Gn+YgFKA+8ClwFKARcCgALK/2T8rPxfAGwDoAMHAicABP9m/74AqQByAC8ClgUWB9QE0wDV/QD+NwCNAlUDPQK+/yj+Hv9IAVsCjAENATABQgGDAboCywNoA34CBAF9/h/8SPx//04DdAURBT0CP/4A/Hv9ngBKA5QEKARIAsf/xv3e+xX6efrf/NH/KQOpBZwEBgGe/tf+9v9WARgDzAKXAXsBwgC7/S37Efuj+y/9nQBxA9kCWwF2AJX/Av+G/87/zf4n/wcBSwOLBNoD3gCi/a78BP72/4UCvgRlBdUExgPQAZP+3/st+2n8qf4sAeUBDwEFAIj/yP4S/kf+AP8kANQCuwWSBv0EFQOwAsABZ/+//KL7c/y4/t4BhwNtASH8HPhn+IL7uv5dAf4CAAKF/539WP1l/az9r/6V/x7/v/2c/Jv8//1v/0L/eP59/t/+1f/4AW4EUARkAef8m/mx+Yn9SQLZA94Bgf5/+3756vko/cUA6AKmA54DmQLJACD/uP5//80A3gF4AdMAeAC3AIUAwf/X/tb9if1O/lQAlAKZAwYDBwKWASACgAJ2AqsCiAIDAWb+i/yu/OH9Gf+I/1n/Mf8y//r+Mf9yACgBUAC2/on+g/6M/tr/zAFoAgsBSv/0/G37XPwr/0sBiAInA8QBef7F+4z7IP2M//AA2f8n/ZD7E/zi/XYAEAIkAcn+6/yb/LT9QgBUA4UF7AUyBPgA3v2f/B/9Df99AV4DQQOMAcP/if43/pP+f/9ZAFcBVwI/A8ADBgP+AIj+Rv3e/Ub/XABWATMCLQIIAZz/2P7Q/or/OAE4A3YECwRJAoIAxf+6/8z/7f9nAA8BhgG/AQsBiv/m/UH92v1u/z8BNQITAkQBqQBbACcACQA0AFQAJwAZACwA2P/k/lT+X/55/uv+3f8GAYEBWgHcAEYAMAAdAaoCKAM5AmAAC//6/hQAUQF8AYkAUP/L/vb+o/9QAOIAfAENAiICOwH4/2r/UAD0AdICPgJdAI/+9P3N/gUATgDg/0L/C/9n/xMAcwB0AKEAYQH5AVoB6/+m/pr+hv/+AOkBUwEXAB//rv5y/oH+2v5o/+z/GwCJ/5r+TP76/j4A8ACdAKH/mP5Q/v7+9/9SACAAqv/5/mb+ev7t/hv/Hv/8/q3+Nf4K/h7+OP5i/qn+HP+3/xgA7P9q/0X/m/+4/6v/pf+C/xP/x/4Z/4L/O/+J/kv+w/6r/2gAqwB3ANb/Av+Q/uT+Z/95/13/hv/R/+v/2P+3/7r/DQDWAIwBmwEpAbwAswACAUgBDwFyAAAABgBhAJAAKgCS/3f/AABvACQAv//U/y8AmgDLAIUAzf8j/zr/FADoAOwAOQCU/3n/+v/LAFUBLQGoAC8A7P/Y/+j//v8jAIUAgwDZ//r+h/60/m//cAAXARkBsgAzAOT/+P9jAMkA7QDrAMUASQDp/wQAXACQAH0AVQAAALP/6f+lAFUBXwHKAAUAnP+9/z8A0gATAegAkgBRACEAEAAEAB0AWQCCAJwAowB/ADsAGAAfAB8A3/+l/7D/7P8vAF8AUgABAKz/ff+O/9L/MABkAGAAPgDc/0D/1/7i/jf/kP/H/+P/zv+D/xT/yP7a/jn/rP///xgAFAAXADAAXQAqAJT/L/9M/8H/MAB/AHQAFwC//6P/p/+n/7//EACDAM8A4ACYADcABQAKADcAXAAqAMX/o//n/yYAPQA2ABwABQDs/+j/2f/o/xEAUgCRAIcAJAC9/5f/p//S/wkAHQD7/9z/9/8sACcA+P/K/8b/4f8QADsAUQBZAEwAKwAEANT/n/+X/9j/DgDz/6X/ev+O/7P/1P/z////+P///y4AaQB/AGEAIwDr/77/w/8QAGgAhQBYABcA6f/f/+f/+v8mAGAAhwCOAIUAWAAUAPP/AgAfACEAHAArAEEANAAgAA0A/P/o/+f//v8IABcALABGAE4AKgDt/73/sP/D/9//5f/h/9//5f8AACoAMAAFAMn/oP+n/8z/AAAyAEgAMgD//9H/v//D/83/0v/Y/9X/0v/f/+v/5f/C/5//lP+j/77/3//4//7/6/+//5//kv+j/8L/5P/0/+n/1f/G/8P/wf/G/9L/4f/r//z/BQABAPT/5f/h/+z/9v/y/+j/4//j/+T/6f/s/+v/4f/f/9n/3f/l//b/BgANAAoA///r/+D/5//z/wUADgAJAAAA9v/3//r/+//z//L/9//8/wQADAAQAAwACAAEAAIAAAD/////AAACAAAA+P/z/+//9P8AAAQAAgD6//L/7f/z//r/+v/6//f/9//8//7/+v/2//P/9P/z//L/9v/7/wAABAACAP//+P/4////CAAOABEAEwAUABEADQAKAAYADgAZACoALwAqACAAGAAXABwAIQAoAC4ALAAvADIAMwAyADIANwA5ADkAOgA7AD4AQQBCAEIAPwA9ADoAOwA/AEMARQBCAEUAQgA+AD4AOwA9AD0APwBCAEMAPwA5ADIAKwAqACcALAAwADIALwArACoAJwAnACYAJgAjACAAHwAcAB0AHAAYABQADAAGAAIAAAAEAAYACQAIAAQAAAD+//v/+//8//z/+//8//v/+//6//b/8P/s/+n/6f/s/+//7//v/+n/5//l/+T/5f/l/+f/5//l/+X/4f/h/+T/4//n/+j/5f/j/+H/3//d/+H/4f/g/93/2v/Y/9j/1v/Z/9n/2P/W/9b/1P/U/9X/1f/Y/9j/1f/U/9X/1f/W/9n/2v/Y/9j/2P/Y/9z/2f/a/9z/2v/a/9z/2v/a/93/2v/Y/9j/1v/Z/93/4P/g/+H/4//h/+P/5P/k/+f/6P/p/+n/6P/p/+v/6f/r/+v/6f/r/+n/7P/s/+3/7//v/+//7//v//D/9P/2//b/9v/4//j/9//4//r/+//7//v//P//////AAABAAIAAgAEAAIABAAGAAYACAAIAAgABgAIAAkACgAKAAoADAAMAA4ADQAQABAAEQATABQAFAAVABUAFwAXABUAFwAYABgAGAAYABgAFwAZABkAGQAbABwAHAAcAB0AHQAdAB0AHQAdAB8AHwAfACAAIAAgAB8AHwAfAB0AHwAfAB8AHwAfAB8AHQAdABwAHQA=\" type=\"audio/wav\" />\n",
              "                    Your browser does not support the audio element.\n",
              "                </audio>\n",
              "              "
            ],
            "text/plain": [
              "<IPython.lib.display.Audio object>"
            ]
          },
          "metadata": {},
          "output_type": "display_data"
        }
      ],
      "source": [
        "display(Audio(audio_data_int16, rate=16000))"
      ]
    },
    {
      "cell_type": "code",
      "execution_count": null,
      "metadata": {
        "id": "B5-m2iXYrML5"
      },
      "outputs": [],
      "source": [
        "fig = px.scatter(audio_data_int16, title=\"Input audio\")\n",
        "fig.show()"
      ]
    },
    {
      "cell_type": "markdown",
      "metadata": {
        "id": "o49br1Pbrvgl"
      },
      "source": [
        "### **Reference constants**"
      ]
    },
    {
      "cell_type": "code",
      "execution_count": 34,
      "metadata": {
        "id": "j8uTvr8E9xt-"
      },
      "outputs": [],
      "source": [
        "command_samples = [\n",
        "    [142000, 160000],\n",
        "    [340000, 360000],\n",
        "    [620000, 635000]\n",
        "]\n",
        "\n",
        "nb_command_samples = sum([elem[1] - elem[0] for elem in command_samples])"
      ]
    },
    {
      "cell_type": "markdown",
      "metadata": {
        "id": "3767QEqjbiK0"
      },
      "source": [
        "#### **Ground truth**\n",
        "\n",
        "We establish the ground truth of the labels as follows:\n",
        "- Voice command samples are labeled as 0.\n",
        "- Everything that is not a command is labeled as 1."
      ]
    },
    {
      "cell_type": "code",
      "execution_count": 35,
      "metadata": {
        "id": "qnpGqbsL1f7i"
      },
      "outputs": [],
      "source": [
        "ground_truth = np.ones(len(audio_data_int16))\n",
        "for i in range(len(audio_data_int16)):\n",
        "    if any([i >= e[0] and i <= e[1] for e in command_samples]):\n",
        "        ground_truth[i] = 0"
      ]
    },
    {
      "cell_type": "code",
      "execution_count": null,
      "metadata": {
        "id": "3I3Xy3PN-Pyh"
      },
      "outputs": [],
      "source": [
        "fig = px.scatter(audio_data_int16, title=\"Input audio\")\n",
        "for elem in command_samples:\n",
        "    fig.add_vline(x=elem[0], line_color=\"red\")\n",
        "    fig.add_vline(x=elem[1], line_color=\"red\")\n",
        "fig.show()"
      ]
    },
    {
      "cell_type": "markdown",
      "metadata": {
        "id": "G2_8HJZ8gKIa"
      },
      "source": [
        "### **Evaluate results**"
      ]
    },
    {
      "cell_type": "markdown",
      "metadata": {
        "id": "GB76hUqxdsDY"
      },
      "source": [
        "Import result file"
      ]
    },
    {
      "cell_type": "code",
      "execution_count": 89,
      "metadata": {
        "id": "5qmQeIlwYQ5T"
      },
      "outputs": [],
      "source": [
        "result_path = 'results.pkl'\n",
        "\n",
        "# Open and read the list from the file\n",
        "with open(result_path, 'rb') as file:\n",
        "    results = pickle.load(file)"
      ]
    },
    {
      "cell_type": "markdown",
      "metadata": {
        "id": "OlTyJYz4dxRf"
      },
      "source": [
        "Calculate the overrun time for every sample, extract the labels."
      ]
    },
    {
      "cell_type": "code",
      "execution_count": 90,
      "metadata": {
        "id": "49dih-HHv1ck"
      },
      "outputs": [],
      "source": [
        "overrun_times_ms = (results[2] - results[0]) / 1e6\n",
        "labels = results[1]"
      ]
    },
    {
      "cell_type": "code",
      "execution_count": 91,
      "metadata": {},
      "outputs": [
        {
          "data": {
            "text/plain": [
              "array([1716.2789, 1716.2789, 1716.2789, ...,    0.    ,    0.    ,\n",
              "          0.    ])"
            ]
          },
          "execution_count": 91,
          "metadata": {},
          "output_type": "execute_result"
        }
      ],
      "source": [
        "overrun_times_ms"
      ]
    },
    {
      "cell_type": "markdown",
      "metadata": {
        "id": "AvfWTfIQs5Iu"
      },
      "source": [
        "#### **Assertions**"
      ]
    },
    {
      "cell_type": "markdown",
      "metadata": {
        "id": "ldrCDeWPd381"
      },
      "source": [
        "A solution is valid if:\n",
        "- Samples have been labelled sequentially\n",
        "- Each sample has been processed in less than 50 ms\n",
        "\n",
        "These constraints aim to enforce the real time simulation."
      ]
    },
    {
      "cell_type": "code",
      "execution_count": 92,
      "metadata": {
        "id": "yXV9s_tfs4dd"
      },
      "outputs": [
        {
          "ename": "AssertionError",
          "evalue": "",
          "output_type": "error",
          "traceback": [
            "\u001b[1;31m---------------------------------------------------------------------------\u001b[0m",
            "\u001b[1;31mAssertionError\u001b[0m                            Traceback (most recent call last)",
            "Cell \u001b[1;32mIn [92], line 2\u001b[0m\n\u001b[0;32m      1\u001b[0m \u001b[38;5;28;01massert\u001b[39;00m np\u001b[38;5;241m.\u001b[39mall(np\u001b[38;5;241m.\u001b[39mdiff(results[\u001b[38;5;241m2\u001b[39m]) \u001b[38;5;241m>\u001b[39m\u001b[38;5;241m=\u001b[39m \u001b[38;5;241m0\u001b[39m) \u001b[38;5;66;03m# Labelling has been done sequentially\u001b[39;00m\n\u001b[1;32m----> 2\u001b[0m \u001b[38;5;28;01massert\u001b[39;00m np\u001b[38;5;241m.\u001b[39mall(overrun_times_ms \u001b[38;5;241m<\u001b[39m\u001b[38;5;241m=\u001b[39m \u001b[38;5;241m50\u001b[39m)\n",
            "\u001b[1;31mAssertionError\u001b[0m: "
          ]
        }
      ],
      "source": [
        "assert np.all(np.diff(results[2]) >= 0) # Labelling has been done sequentially\n",
        "assert np.all(overrun_times_ms <= 50) # Processing took less than 50 ms for each sample"
      ]
    },
    {
      "cell_type": "markdown",
      "metadata": {
        "id": "Az-r0gvauFXn"
      },
      "source": [
        "#### **Scoring**"
      ]
    },
    {
      "cell_type": "markdown",
      "metadata": {
        "id": "XXrhAZZTeiHu"
      },
      "source": [
        "The score is calculated by penalizing:\n",
        "- The samples that have been processed in more than 20 ms.\n",
        "- The samples of commands that have been broadcast.\n",
        "- The samples of communications that have not been broadcast."
      ]
    },
    {
      "cell_type": "code",
      "execution_count": 93,
      "metadata": {
        "colab": {
          "base_uri": "https://localhost:8080/"
        },
        "id": "I6zOtw9Bw6SE",
        "outputId": "1c18528e-d457-4d3f-9b14-09f88428a300"
      },
      "outputs": [
        {
          "name": "stdout",
          "output_type": "stream",
          "text": [
            "Score: 0.7590748224243229\n",
            "11242\n",
            "29919\n",
            "41161\n"
          ]
        }
      ],
      "source": [
        "slow_sample_labelling_thres = 20\n",
        "command_ratio = nb_command_samples / len(audio_data_int16)\n",
        "communication_ratio = 1 - nb_command_samples / len(audio_data_int16)\n",
        "\n",
        "score = len(audio_data_int16)\n",
        "\n",
        "count1 = 0\n",
        "count2 = 0\n",
        "count = 0\n",
        "for i in range(len(audio_data_int16)):\n",
        "    # if overrun_times_ms[i] >= slow_sample_labelling_thres:\n",
        "    #     score -= 1\n",
        "    # else:\n",
        "    if ground_truth[i] == 0 and labels[i] != 0: # unintentional broadcast\n",
        "        score -= int(1 / command_ratio)\n",
        "        count1 += 1\n",
        "    if ground_truth[i] == 1 and labels[i] != 1: # lost communication\n",
        "        score -= int(1 / communication_ratio)\n",
        "        count2 += 1\n",
        "\n",
        "print(f'Score: {score / len(audio_data_int16)}')\n",
        "count = count1 + count2\n",
        "print(count1)\n",
        "print(count2)\n",
        "print(count)"
      ]
    }
  ],
  "metadata": {
    "colab": {
      "provenance": []
    },
    "kernelspec": {
      "display_name": "Python 3",
      "name": "python3"
    },
    "language_info": {
      "name": "python"
    }
  },
  "nbformat": 4,
  "nbformat_minor": 0
}
