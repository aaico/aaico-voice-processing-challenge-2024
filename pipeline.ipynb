{
 "cells": [
  {
   "cell_type": "code",
   "execution_count": 2,
   "metadata": {},
   "outputs": [],
   "source": [
    "import torch\n",
    "from transformers import AutoModelForSpeechSeq2Seq, AutoProcessor, pipeline\n",
    "import numpy as np"
   ]
  },
  {
   "cell_type": "code",
   "execution_count": 4,
   "metadata": {},
   "outputs": [
    {
     "name": "stderr",
     "output_type": "stream",
     "text": [
      "Special tokens have been added in the vocabulary, make sure the associated word embeddings are fine-tuned or trained.\n"
     ]
    },
    {
     "name": "stdout",
     "output_type": "stream",
     "text": [
      "Command detected:  Engine 3, this is Bravo Team. We've got heavy smoke and flames visible from the Charlie side. We're going for a defensive attack, over. Galactic temperature. This is Bravo Team. Visibility's near zero, lots of heat. We're gonna hit Charlie hard from the exterior, then make entry from a primary search, over. Galactic battery. Galactic Battery. Keep an eye on that roof. Looks sketchy. Engine 3, better charge the hose. Over. Acknowledged. We've got a 2.5 inch line ready for a blitz attack. We'll knock down the bulk of the fire before we go in. Galactic Oxygen. Pass is active and we're staying on the comms. Going in for the attack now. Stay sharp out there. Over. Bravo going in. Over.\n"
     ]
    }
   ],
   "source": [
    "# Load pre-trained model\n",
    "device = \"cuda:0\" if torch.cuda.is_available() else \"cpu\"\n",
    "torch_dtype = torch.float16 if torch.cuda.is_available() else torch.float32\n",
    "\n",
    "model_id = \"openai/whisper-large-v3\"\n",
    "\n",
    "model = AutoModelForSpeechSeq2Seq.from_pretrained(\n",
    "    model_id, torch_dtype=torch_dtype, use_safetensors=True\n",
    ")\n",
    "model.to(device)\n",
    "\n",
    "processor = AutoProcessor.from_pretrained(model_id)\n",
    "\n",
    "pipe = pipeline(\n",
    "    \"automatic-speech-recognition\",\n",
    "    model=model,\n",
    "    tokenizer=processor.tokenizer,\n",
    "    feature_extractor=processor.feature_extractor,\n",
    "    max_new_tokens=128,\n",
    "    chunk_length_s=30,\n",
    "    batch_size=16,\n",
    "    return_timestamps=True,\n",
    "    torch_dtype=torch_dtype,\n",
    "    device=device,\n",
    ")\n",
    "\n",
    "# Function to detect commands in audio\n",
    "def detect_command(audio_sample):\n",
    "    # Perform automatic speech recognition\n",
    "    result = pipe(audio_sample)\n",
    "    return result[\"text\"]\n",
    "    \n",
    "    # Your command detection logic here\n",
    "    # Example: Check if the detected text contains a specific command\n",
    "    # if \"command\" in text.lower():\n",
    "    #     return True\n",
    "    # else:\n",
    "    #     return False\n",
    "\n",
    "# Load example audio data\n",
    "audio_sample = \"audio_aaico_challenge.wav\"\n"
   ]
  },
  {
   "cell_type": "code",
   "execution_count": 5,
   "metadata": {},
   "outputs": [
    {
     "name": "stdout",
     "output_type": "stream",
     "text": [
      "Command detected:  Engine 3, this is Bravo Team. We've got heavy smoke and flames visible from the Charlie side. We're going for a defensive attack, over. Galactic temperature. This is Bravo Team. Visibility's near zero, lots of heat. We're gonna hit Charlie hard from the exterior, then make entry from a primary search, over. Galactic battery. Galactic Battery. Keep an eye on that roof. Looks sketchy. Engine 3, better charge the hose. Over. Acknowledged. We've got a 2.5 inch line ready for a blitz attack. We'll knock down the bulk of the fire before we go in. Galactic Oxygen. Pass is active and we're staying on the comms. Going in for the attack now. Stay sharp out there. Over. Bravo going in. Over.\n"
     ]
    }
   ],
   "source": [
    "# Detect command in the audio sample\n",
    "command_detected = detect_command(audio_sample)\n",
    "print(\"Command detected:\", command_detected)"
   ]
  },
  {
   "cell_type": "code",
   "execution_count": null,
   "metadata": {},
   "outputs": [],
   "source": []
  }
 ],
 "metadata": {
  "kernelspec": {
   "display_name": ".venv",
   "language": "python",
   "name": "python3"
  },
  "language_info": {
   "codemirror_mode": {
    "name": "ipython",
    "version": 3
   },
   "file_extension": ".py",
   "mimetype": "text/x-python",
   "name": "python",
   "nbconvert_exporter": "python",
   "pygments_lexer": "ipython3",
   "version": "3.11.7"
  }
 },
 "nbformat": 4,
 "nbformat_minor": 2
}
