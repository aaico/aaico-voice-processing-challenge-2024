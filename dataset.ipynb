{
 "cells": [
  {
   "cell_type": "code",
   "execution_count": 20,
   "metadata": {},
   "outputs": [],
   "source": [
    "import librosa\n",
    "import numpy as np\n",
    "import pandas as pd\n",
    "import soundfile as sf"
   ]
  },
  {
   "cell_type": "code",
   "execution_count": 21,
   "metadata": {},
   "outputs": [],
   "source": [
    "sample_rate = 16000\n",
    "frame_length = 512\n",
    "audio_file = \"audio_aaico_challenge.wav\"\n",
    "\n",
    "audio_data, current_sample_rate = librosa.load(\n",
    "    audio_file,\n",
    "    sr=sample_rate,\n",
    ")\n",
    "\n",
    "audio_data_int16 = (audio_data * 32767).astype(np.int16)\n",
    "\n",
    "number_of_frames = len(audio_data_int16) // frame_length\n",
    "\n",
    "audio_data_int16 = audio_data_int16[:number_of_frames * frame_length]\n",
    "audio_duration = len(audio_data_int16) / sample_rate"
   ]
  },
  {
   "cell_type": "code",
   "execution_count": 22,
   "metadata": {},
   "outputs": [],
   "source": [
    "dict = {'file_name':[], \"frame_index\":[]}\n",
    "file = pd.DataFrame(data=dict)"
   ]
  },
  {
   "cell_type": "code",
   "execution_count": 23,
   "metadata": {},
   "outputs": [],
   "source": [
    "for i in range(number_of_frames):\n",
    "    clip = audio_data_int16[i*frame_length:(i+1)*frame_length]\n",
    "    sf.write(f\"/path/to/folder/audios/clip{i}.wav\", clip, samplerate=16000)\n",
    "    file.loc[i] = [f\"./audios/clip{i}.wav\", i]"
   ]
  },
  {
   "cell_type": "code",
   "execution_count": null,
   "metadata": {},
   "outputs": [],
   "source": [
    "file.to_csv(\"audio_to_frame_index.csv\")"
   ]
  }
 ],
 "metadata": {
  "kernelspec": {
   "display_name": "hack_venv",
   "language": "python",
   "name": "python3"
  },
  "language_info": {
   "codemirror_mode": {
    "name": "ipython",
    "version": 3
   },
   "file_extension": ".py",
   "mimetype": "text/x-python",
   "name": "python",
   "nbconvert_exporter": "python",
   "pygments_lexer": "ipython3",
   "version": "3.8.8"
  },
  "orig_nbformat": 4
 },
 "nbformat": 4,
 "nbformat_minor": 2
}
