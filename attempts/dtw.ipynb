{
 "cells": [
  {
   "cell_type": "code",
   "execution_count": 14,
   "metadata": {},
   "outputs": [
    {
     "name": "stderr",
     "output_type": "stream",
     "text": [
      "f:\\Code Repos\\AAICO-Voice-Competition\\venv\\Lib\\site-packages\\tqdm\\auto.py:21: TqdmWarning: IProgress not found. Please update jupyter and ipywidgets. See https://ipywidgets.readthedocs.io/en/stable/user_install.html\n",
      "  from .autonotebook import tqdm as notebook_tqdm\n"
     ]
    }
   ],
   "source": [
    "import librosa\n",
    "import numpy as np\n",
    "import time\n",
    "import threading\n",
    "import queue\n",
    "import pickle\n",
    "\n",
    "import fastdtw\n",
    "import torch\n",
    "from transformers import AutoModelForSpeechSeq2Seq, AutoProcessor, pipeline\n",
    "from datasets import load_dataset\n"
   ]
  },
  {
   "cell_type": "code",
   "execution_count": 15,
   "metadata": {},
   "outputs": [],
   "source": [
    "########### PARAMETERS ###########\n",
    "# DO NOT MODIFY\n",
    "# Desired sample rate 16000 Hz\n",
    "sample_rate = 16000\n",
    "# Frame length\n",
    "frame_length = 512"
   ]
  },
  {
   "cell_type": "code",
   "execution_count": 16,
   "metadata": {},
   "outputs": [
    {
     "name": "stderr",
     "output_type": "stream",
     "text": [
      "<>:4: SyntaxWarning: invalid escape sequence '\\C'\n",
      "<>:4: SyntaxWarning: invalid escape sequence '\\C'\n",
      "C:\\Users\\moham\\AppData\\Local\\Temp\\ipykernel_19900\\1401072285.py:4: SyntaxWarning: invalid escape sequence '\\C'\n",
      "  \"F:\\Code Repos\\\\AAICO-Voice-Competition\\\\audio_aaico_challenge.wav\",\n"
     ]
    }
   ],
   "source": [
    "# import audio\n",
    "\n",
    "audio_data, audio_sr = librosa.load(\n",
    "    \"F:\\Code Repos\\\\AAICO-Voice-Competition\\\\audio_aaico_challenge.wav\",\n",
    "    sr=sample_rate\n",
    ")\n",
    "\n",
    "audio_data_int16 = (audio_data * 32767).astype(np.int16) # converting audio data from 32-bit float to 16-bit int\n",
    "number_of_frames = len(audio_data_int16) // frame_length # number of frames if audio split by 512 frame length\n",
    "audio_data_int16 = audio_data_int16[:number_of_frames * frame_length] # trimming audio data into multiples of 512 \n",
    "audio_duration = len(audio_data_int16) / sample_rate # calculating audio duration"
   ]
  },
  {
   "cell_type": "code",
   "execution_count": 17,
   "metadata": {},
   "outputs": [
    {
     "name": "stderr",
     "output_type": "stream",
     "text": [
      "<>:4: SyntaxWarning: invalid escape sequence '\\C'\n",
      "<>:9: SyntaxWarning: invalid escape sequence '\\C'\n",
      "<>:14: SyntaxWarning: invalid escape sequence '\\C'\n",
      "<>:4: SyntaxWarning: invalid escape sequence '\\C'\n",
      "<>:9: SyntaxWarning: invalid escape sequence '\\C'\n",
      "<>:14: SyntaxWarning: invalid escape sequence '\\C'\n",
      "C:\\Users\\moham\\AppData\\Local\\Temp\\ipykernel_19900\\1134197054.py:4: SyntaxWarning: invalid escape sequence '\\C'\n",
      "  \"F:\\Code Repos\\\\AAICO-Voice-Competition\\\\audio-files\\\\galactic_main_test.wav\",\n",
      "C:\\Users\\moham\\AppData\\Local\\Temp\\ipykernel_19900\\1134197054.py:9: SyntaxWarning: invalid escape sequence '\\C'\n",
      "  \"F:\\Code Repos\\\\AAICO-Voice-Competition\\\\audio-files\\\\galactic_sample.wav\",\n",
      "C:\\Users\\moham\\AppData\\Local\\Temp\\ipykernel_19900\\1134197054.py:14: SyntaxWarning: invalid escape sequence '\\C'\n",
      "  \"F:\\Code Repos\\\\AAICO-Voice-Competition\\\\audio-files\\\\test1.wav\",\n"
     ]
    }
   ],
   "source": [
    "# import test audios\n",
    "\n",
    "template_test, template_sr = librosa.load(\n",
    "    \"F:\\Code Repos\\\\AAICO-Voice-Competition\\\\audio-files\\\\galactic_main_test.wav\",\n",
    "    sr=sample_rate\n",
    ")\n",
    "\n",
    "test1_data, test1_sr = librosa.load(\n",
    "    \"F:\\Code Repos\\\\AAICO-Voice-Competition\\\\audio-files\\\\galactic_sample.wav\",\n",
    "    sr=sample_rate\n",
    ")\n",
    "\n",
    "test2_data, test2_sr = librosa.load(\n",
    "    \"F:\\Code Repos\\\\AAICO-Voice-Competition\\\\audio-files\\\\test1.wav\",\n",
    "    sr=sample_rate\n",
    ")"
   ]
  },
  {
   "cell_type": "code",
   "execution_count": 23,
   "metadata": {},
   "outputs": [
    {
     "data": {
      "text/plain": [
       "1119.4487441063716"
      ]
     },
     "execution_count": 23,
     "metadata": {},
     "output_type": "execute_result"
    }
   ],
   "source": [
    "distance, _ = fastdtw.fastdtw(template_test.T, test1_data.T)\n",
    "distance"
   ]
  },
  {
   "cell_type": "code",
   "execution_count": 28,
   "metadata": {},
   "outputs": [],
   "source": [
    "########### STREAMING SIMULATION ###########\n",
    "# DO NOT MODIFY\n",
    "results = np.zeros(shape=(3, len(audio_data_int16)), dtype=np.int64)\n",
    "# Detection mask lines are SENT TIME, LABEL, RECEIVE TIME. \n",
    "buffer = queue.Queue()\n",
    "start_event = threading.Event()\n",
    "\n",
    "def label_samples(list_samples_id, labels):\n",
    "    \"\"\"\n",
    "        Receives the index of samples for a frame \n",
    "        and allocates each sameple's label (0, 1) \n",
    "        and receive time.\n",
    "    \"\"\"\n",
    "    receive_time = time.time_ns()\n",
    "    results[1][list_samples_id] = labels\n",
    "    results[2][list_samples_id] = receive_time\n",
    "\n",
    "def notice_send_samples(list_samples_id):\n",
    "    \"\"\"\n",
    "        Receives the index of samples for a frame and \n",
    "        allocates each sample's send time \n",
    "    \"\"\"\n",
    "    send_time = time.time_ns()\n",
    "    results[0][list_samples_id] = send_time\n",
    "\n",
    "def emit_data():\n",
    "    \"\"\"\n",
    "        Each iteration of the loop generate a list of \n",
    "        indices of total length 512. Retreieve the frame\n",
    "        from audio data using the indicies and inputting \n",
    "        into the buffer. \n",
    "\n",
    "        Sends the same set of indicies to \"notice_send_samples\" \n",
    "        to record sent time.\n",
    "    \"\"\" \n",
    "    time.sleep(.5)\n",
    "    print('Start emitting')\n",
    "    start_event.set()\n",
    "    for i in range(0, number_of_frames):\n",
    "        list_samples_id = np.arange(i*frame_length, (i+1)*frame_length)\n",
    "        time.sleep(frame_length / sample_rate) # Simulate real time\n",
    "        frame = audio_data_int16[list_samples_id]\n",
    "        \n",
    "        # if DEBUG:\n",
    "        #     print(list_samples_id)\n",
    "        #     print(frame)\n",
    "\n",
    "        buffer.put(frame)\n",
    "        notice_send_samples(list_samples_id)\n",
    "    print('Stop emitting')\n",
    "\n",
    "def process_data():\n",
    "    \"\"\"\n",
    "        Loop runs while the current frame's processed isn't equal to\n",
    "        total number of frames. \n",
    "        \n",
    "        Retrieves the frame from the buffer and generates the indicies list \n",
    "        for the samples. Generates the labels for the samples, sends both \n",
    "        parameters to the label_samples function to label which samples are commands\n",
    "        and which are not.\n",
    "    \"\"\"\n",
    "    i = 0\n",
    "    start_event.wait()\n",
    "    print('Start processing')\n",
    "    distances=[]\n",
    "    while i != number_of_frames:\n",
    "        start_time = time.time()\n",
    "        frame = buffer.get() \n",
    "        \n",
    "        distance, _ = fastdtw.fastdtw(frame, test1_data)\n",
    "        distances.append(distance)\n",
    "        \n",
    "        if distance < 100:\n",
    "            list_samples_id = np.arange(i*frame_length, (i+1)*frame_length)\n",
    "            labels = [1 for _ in range(len(list_samples_id))]\n",
    "            label_samples(list_samples_id, labels)\n",
    "        \n",
    "        i += 1\n",
    "        end_time = time.time()\n",
    "        duration = (end_time - start_time) / 1000 # convert s to ms\n",
    "        \n",
    "        if distance < 100:\n",
    "            print(\"Processed Frame: {} | Distance: {} | Time Taken: {}\".format(i, distance, duration))        \n",
    "        # print(\"Processed Frame: {} | Distance: {} | Time Taken: {}\".format(i, distance, duration))\n",
    "        \n",
    "    min_dist = min(distances)\n",
    "    print(\"Minimum distance found: {} at Frame: {}\".format(min_dist, distances.index(min_dist)))\n",
    "    print('Stop processing')\n",
    "    # Save the list to a file\n",
    "    with open('results.pkl', 'wb') as file:\n",
    "        pickle.dump(results, file)\n"
   ]
  },
  {
   "cell_type": "code",
   "execution_count": 29,
   "metadata": {},
   "outputs": [
    {
     "name": "stdout",
     "output_type": "stream",
     "text": [
      "Start emitting\n",
      "Start processing\n"
     ]
    }
   ],
   "source": [
    "time_measurement = []\n",
    "\n",
    "thread_process = threading.Thread(target=process_data)\n",
    "thread_emit = threading.Thread(target=emit_data)\n",
    "\n",
    "thread_process.start()\n",
    "thread_emit.start()"
   ]
  }
 ],
 "metadata": {
  "kernelspec": {
   "display_name": "venv",
   "language": "python",
   "name": "python3"
  },
  "language_info": {
   "codemirror_mode": {
    "name": "ipython",
    "version": 3
   },
   "file_extension": ".py",
   "mimetype": "text/x-python",
   "name": "python",
   "nbconvert_exporter": "python",
   "pygments_lexer": "ipython3",
   "version": "3.12.0"
  }
 },
 "nbformat": 4,
 "nbformat_minor": 2
}
