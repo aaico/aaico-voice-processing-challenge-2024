{
 "cells": [
  {
   "cell_type": "code",
   "execution_count": 23,
   "metadata": {},
   "outputs": [],
   "source": [
    "result_path = 'results.pkl'\n",
    "import pickle\n",
    "\n",
    "# Open and read the list from the file\n",
    "with open(result_path, 'rb') as file:\n",
    "    results = pickle.load(file)"
   ]
  },
  {
   "cell_type": "code",
   "execution_count": 24,
   "metadata": {},
   "outputs": [],
   "source": [
    "overrun_times_ms = (results[2] - results[0]) / 1e6\n",
    "labels = results[1]"
   ]
  },
  {
   "cell_type": "code",
   "execution_count": 25,
   "metadata": {},
   "outputs": [],
   "source": [
    "import numpy as np\n",
    "assert np.all(np.diff(results[2]) >= 0) # Labelling has been done sequentially\n",
    "assert np.all(overrun_times_ms <= 50) # Processing took less than 50 ms for each sample"
   ]
  },
  {
   "cell_type": "code",
   "execution_count": 26,
   "metadata": {},
   "outputs": [],
   "source": [
    "command_samples = [\n",
    "    [142000, 160000],\n",
    "    [340000, 360000],\n",
    "    [620000, 635000]\n",
    "]\n",
    "\n",
    "nb_command_samples = sum([elem[1] - elem[0] for elem in command_samples])"
   ]
  },
  {
   "cell_type": "code",
   "execution_count": 27,
   "metadata": {},
   "outputs": [],
   "source": [
    "import librosa\n",
    "# Desired sample rate 16000 Hz\n",
    "sample_rate = 16000\n",
    "\n",
    "# Frame length\n",
    "frame_length = 512\n",
    "# Path to the audio file\n",
    "audio_file = \"test_aaico_challenge.wav\"\n",
    "\n",
    "# Read the audio file and resample it to the desired sample rate\n",
    "audio_data, current_sample_rate = librosa.load(\n",
    "    audio_file,\n",
    "    sr=sample_rate,\n",
    ")\n",
    "audio_data_int16 = (audio_data * 32767).astype(np.int16)\n",
    "\n",
    "number_of_frames = len(audio_data_int16) // frame_length\n",
    "\n",
    "audio_data_int16 = audio_data_int16[:number_of_frames * frame_length]\n",
    "audio_duration = len(audio_data_int16) / sample_rate"
   ]
  },
  {
   "cell_type": "code",
   "execution_count": 28,
   "metadata": {},
   "outputs": [],
   "source": [
    "ground_truth = np.ones(len(audio_data_int16))\n",
    "for i in range(len(audio_data_int16)):\n",
    "    if any([i >= e[0] and i <= e[1] for e in command_samples]):\n",
    "        ground_truth[i] = 0"
   ]
  },
  {
   "cell_type": "code",
   "execution_count": 49,
   "metadata": {},
   "outputs": [
    {
     "name": "stdout",
     "output_type": "stream",
     "text": [
      "Score: 0.5990720841078067\n"
     ]
    }
   ],
   "source": [
    "slow_sample_labelling_thres = 20\n",
    "command_ratio = nb_command_samples / len(audio_data_int16)\n",
    "communication_ratio = 1 - nb_command_samples / len(audio_data_int16)\n",
    "\n",
    "score = len(audio_data_int16)\n",
    "\n",
    "for i in range(len(audio_data_int16)):\n",
    "    if overrun_times_ms[i] >= slow_sample_labelling_thres:\n",
    "        # print(\"slow\")\n",
    "        score -= 1\n",
    "    else:\n",
    "        if ground_truth[i] == 0 and labels[i] != 0: # unintentional broadcast\n",
    "            score -= int(1 / command_ratio)\n",
    "        if ground_truth[i] == 1 and labels[i] != 1: # lost communication\n",
    "            score -= int(1 / communication_ratio)\n",
    "\n",
    "print(f'Score: {score / len(audio_data_int16)}')"
   ]
  },
  {
   "cell_type": "code",
   "execution_count": 30,
   "metadata": {},
   "outputs": [
    {
     "data": {
      "text/plain": [
       "0.5996031515533723"
      ]
     },
     "execution_count": 30,
     "metadata": {},
     "output_type": "execute_result"
    }
   ],
   "source": [
    "def custom_score(y_true, y_pred):\n",
    "\n",
    "    score = len(audio_data_int16)\n",
    "\n",
    "    for i in range(len(audio_data_int16)):\n",
    "    \n",
    "        if y_true[i] == 0 and y_pred[i] != 0: # unintentional broadcast\n",
    "            score -= int(1 / command_ratio)\n",
    "        if y_true[i] == 1 and y_pred[i] != 1: # lost communication\n",
    "            score -= int(1 / communication_ratio)\n",
    "    return score /len(audio_data_int16)\n",
    "custom_score(ground_truth, labels)\n"
   ]
  },
  {
   "cell_type": "code",
   "execution_count": 31,
   "metadata": {},
   "outputs": [
    {
     "data": {
      "text/html": [
       "<div>\n",
       "<style scoped>\n",
       "    .dataframe tbody tr th:only-of-type {\n",
       "        vertical-align: middle;\n",
       "    }\n",
       "\n",
       "    .dataframe tbody tr th {\n",
       "        vertical-align: top;\n",
       "    }\n",
       "\n",
       "    .dataframe thead th {\n",
       "        text-align: right;\n",
       "    }\n",
       "</style>\n",
       "<table border=\"1\" class=\"dataframe\">\n",
       "  <thead>\n",
       "    <tr style=\"text-align: right;\">\n",
       "      <th></th>\n",
       "      <th>Unnamed: 0</th>\n",
       "      <th>sample_id</th>\n",
       "      <th>label</th>\n",
       "      <th>predscore</th>\n",
       "      <th>time</th>\n",
       "      <th>signal</th>\n",
       "    </tr>\n",
       "  </thead>\n",
       "  <tbody>\n",
       "    <tr>\n",
       "      <th>0</th>\n",
       "      <td>0</td>\n",
       "      <td>0</td>\n",
       "      <td>1.0</td>\n",
       "      <td>0.998362</td>\n",
       "      <td>12.514608</td>\n",
       "      <td>4</td>\n",
       "    </tr>\n",
       "    <tr>\n",
       "      <th>1</th>\n",
       "      <td>1</td>\n",
       "      <td>1</td>\n",
       "      <td>1.0</td>\n",
       "      <td>0.998362</td>\n",
       "      <td>12.514608</td>\n",
       "      <td>7</td>\n",
       "    </tr>\n",
       "    <tr>\n",
       "      <th>2</th>\n",
       "      <td>2</td>\n",
       "      <td>2</td>\n",
       "      <td>1.0</td>\n",
       "      <td>0.998362</td>\n",
       "      <td>12.514608</td>\n",
       "      <td>5</td>\n",
       "    </tr>\n",
       "    <tr>\n",
       "      <th>3</th>\n",
       "      <td>3</td>\n",
       "      <td>3</td>\n",
       "      <td>1.0</td>\n",
       "      <td>0.998362</td>\n",
       "      <td>12.514608</td>\n",
       "      <td>6</td>\n",
       "    </tr>\n",
       "    <tr>\n",
       "      <th>4</th>\n",
       "      <td>4</td>\n",
       "      <td>4</td>\n",
       "      <td>1.0</td>\n",
       "      <td>0.998362</td>\n",
       "      <td>12.514608</td>\n",
       "      <td>5</td>\n",
       "    </tr>\n",
       "  </tbody>\n",
       "</table>\n",
       "</div>"
      ],
      "text/plain": [
       "   Unnamed: 0  sample_id  label  predscore       time  signal\n",
       "0           0          0    1.0   0.998362  12.514608       4\n",
       "1           1          1    1.0   0.998362  12.514608       7\n",
       "2           2          2    1.0   0.998362  12.514608       5\n",
       "3           3          3    1.0   0.998362  12.514608       6\n",
       "4           4          4    1.0   0.998362  12.514608       5"
      ]
     },
     "execution_count": 31,
     "metadata": {},
     "output_type": "execute_result"
    }
   ],
   "source": [
    "import pandas as pd\n",
    "df = pd.read_csv(\"logdir/debug.csv\")\n",
    "df[\"label\"] = ground_truth\n",
    "df.head()"
   ]
  },
  {
   "cell_type": "code",
   "execution_count": 32,
   "metadata": {},
   "outputs": [
    {
     "data": {
      "text/plain": [
       "<Axes: >"
      ]
     },
     "execution_count": 32,
     "metadata": {},
     "output_type": "execute_result"
    },
    {
     "data": {
      "image/png": "[encoded data removed]",
      "text/plain": [
       "<Figure size 640x480 with 1 Axes>"
      ]
     },
     "metadata": {},
     "output_type": "display_data"
    }
   ],
   "source": [
    "df[\"time\"].plot()"
   ]
  },
  {
   "cell_type": "code",
   "execution_count": 45,
   "metadata": {},
   "outputs": [],
   "source": [
    "df[\"prediction\"] = df[\"predscore\"].apply(lambda x: 0 if x < 0.27 else 1)"
   ]
  },
  {
   "cell_type": "code",
   "execution_count": 46,
   "metadata": {},
   "outputs": [
    {
     "data": {
      "text/plain": [
       "<Axes: >"
      ]
     },
     "execution_count": 46,
     "metadata": {},
     "output_type": "execute_result"
    },
    {
     "data": {
      "image/png": "[encoded data removed]",
      "text/plain": [
       "<Figure size 640x480 with 1 Axes>"
      ]
     },
     "metadata": {},
     "output_type": "display_data"
    }
   ],
   "source": [
    "df[[\"label\",\"prediction\"]].plot()"
   ]
  },
  {
   "cell_type": "code",
   "execution_count": 35,
   "metadata": {},
   "outputs": [
    {
     "name": "stdout",
     "output_type": "stream",
     "text": [
      "0.96003515625 0.9686838624338624 0.9786373060997788 0.988797421086165 0.45694140625\n"
     ]
    }
   ],
   "source": [
    "# df[[\"label\",\"predscore\"]].plot()\n",
    "from sklearn.metrics import accuracy_score, f1_score, precision_score, recall_score\n",
    "def custom_val_score(y_true, y_pred):\n",
    "\n",
    "    score = len(y_pred)\n",
    "\n",
    "    for i in range(len(y_pred)):\n",
    "    \n",
    "        if y_true[i] == 0 and y_pred[i] != 0: # unintentional broadcast\n",
    "            score -= int(1 / command_ratio)\n",
    "        if y_true[i] == 1 and y_pred[i] != 1: # lost communication\n",
    "            score -= int(1 / communication_ratio)\n",
    "    return score /len(y_pred)\n",
    "val_df = df.iloc[:512000]\n",
    "accuracy = accuracy_score(val_df[\"label\"], val_df[\"prediction\"])\n",
    "precision = precision_score(val_df[\"label\"], val_df[\"prediction\"])\n",
    "f1 = f1_score(val_df[\"label\"], val_df[\"prediction\"])\n",
    "recall = recall_score(val_df[\"label\"], val_df[\"prediction\"])\n",
    "score = custom_val_score(val_df[\"label\"].values, val_df[\"prediction\"].values)\n",
    "print(accuracy,precision,f1,recall,score)"
   ]
  },
  {
   "cell_type": "code",
   "execution_count": 48,
   "metadata": {},
   "outputs": [
    {
     "name": "stderr",
     "output_type": "stream",
     "text": [
      " 12%|█▏        | 6/50 [00:39<04:46,  6.50s/it]\n"
     ]
    },
    {
     "ename": "KeyboardInterrupt",
     "evalue": "",
     "output_type": "error",
     "traceback": [
      "\u001b[0;31m---------------------------------------------------------------------------\u001b[0m",
      "\u001b[0;31mKeyboardInterrupt\u001b[0m                         Traceback (most recent call last)",
      "Cell \u001b[0;32mIn[48], line 25\u001b[0m\n\u001b[1;32m     23\u001b[0m resultdf\u001b[39m.\u001b[39mloc[index,\u001b[39m\"\u001b[39m\u001b[39mprecision\u001b[39m\u001b[39m\"\u001b[39m] \u001b[39m=\u001b[39m precision_score(df[\u001b[39m\"\u001b[39m\u001b[39mlabel\u001b[39m\u001b[39m\"\u001b[39m], df[\u001b[39m\"\u001b[39m\u001b[39mprediction\u001b[39m\u001b[39m\"\u001b[39m])\n\u001b[1;32m     24\u001b[0m resultdf\u001b[39m.\u001b[39mloc[index,\u001b[39m\"\u001b[39m\u001b[39mrecall\u001b[39m\u001b[39m\"\u001b[39m] \u001b[39m=\u001b[39m recall_score(df[\u001b[39m\"\u001b[39m\u001b[39mlabel\u001b[39m\u001b[39m\"\u001b[39m], df[\u001b[39m\"\u001b[39m\u001b[39mprediction\u001b[39m\u001b[39m\"\u001b[39m])\n\u001b[0;32m---> 25\u001b[0m resultdf\u001b[39m.\u001b[39mloc[index,\u001b[39m\"\u001b[39m\u001b[39mscore\u001b[39m\u001b[39m\"\u001b[39m] \u001b[39m=\u001b[39m custom_score(df[\u001b[39m\"\u001b[39m\u001b[39mlabel\u001b[39m\u001b[39m\"\u001b[39m], df[\u001b[39m\"\u001b[39m\u001b[39mprediction\u001b[39m\u001b[39m\"\u001b[39m])\n\u001b[1;32m     26\u001b[0m index \u001b[39m+\u001b[39m\u001b[39m=\u001b[39m \u001b[39m1\u001b[39m\n",
      "Cell \u001b[0;32mIn[30], line 9\u001b[0m, in \u001b[0;36mcustom_score\u001b[0;34m(y_true, y_pred)\u001b[0m\n\u001b[1;32m      7\u001b[0m     \u001b[39mif\u001b[39;00m y_true[i] \u001b[39m==\u001b[39m \u001b[39m0\u001b[39m \u001b[39mand\u001b[39;00m y_pred[i] \u001b[39m!=\u001b[39m \u001b[39m0\u001b[39m: \u001b[39m# unintentional broadcast\u001b[39;00m\n\u001b[1;32m      8\u001b[0m         score \u001b[39m-\u001b[39m\u001b[39m=\u001b[39m \u001b[39mint\u001b[39m(\u001b[39m1\u001b[39m \u001b[39m/\u001b[39m command_ratio)\n\u001b[0;32m----> 9\u001b[0m     \u001b[39mif\u001b[39;00m y_true[i] \u001b[39m==\u001b[39m \u001b[39m1\u001b[39m \u001b[39mand\u001b[39;00m y_pred[i] \u001b[39m!=\u001b[39m \u001b[39m1\u001b[39m: \u001b[39m# lost communication\u001b[39;00m\n\u001b[1;32m     10\u001b[0m         score \u001b[39m-\u001b[39m\u001b[39m=\u001b[39m \u001b[39mint\u001b[39m(\u001b[39m1\u001b[39m \u001b[39m/\u001b[39m communication_ratio)\n\u001b[1;32m     11\u001b[0m \u001b[39mreturn\u001b[39;00m score \u001b[39m/\u001b[39m\u001b[39mlen\u001b[39m(audio_data_int16)\n",
      "File \u001b[0;32m~/miniconda3/envs/kaggle/lib/python3.11/site-packages/pandas/core/series.py:992\u001b[0m, in \u001b[0;36mSeries.__getitem__\u001b[0;34m(self, key)\u001b[0m\n\u001b[1;32m    987\u001b[0m \u001b[39mdef\u001b[39;00m \u001b[39m_slice\u001b[39m(\u001b[39mself\u001b[39m, slobj: \u001b[39mslice\u001b[39m \u001b[39m|\u001b[39m np\u001b[39m.\u001b[39mndarray, axis: Axis \u001b[39m=\u001b[39m \u001b[39m0\u001b[39m) \u001b[39m-\u001b[39m\u001b[39m>\u001b[39m Series:\n\u001b[1;32m    988\u001b[0m     \u001b[39m# axis kwarg is retained for compat with NDFrame method\u001b[39;00m\n\u001b[1;32m    989\u001b[0m     \u001b[39m#  _slice is *always* positional\u001b[39;00m\n\u001b[1;32m    990\u001b[0m     \u001b[39mreturn\u001b[39;00m \u001b[39mself\u001b[39m\u001b[39m.\u001b[39m_get_values(slobj)\n\u001b[0;32m--> 992\u001b[0m \u001b[39mdef\u001b[39;00m \u001b[39m__getitem__\u001b[39m(\u001b[39mself\u001b[39m, key):\n\u001b[1;32m    993\u001b[0m     check_dict_or_set_indexers(key)\n\u001b[1;32m    994\u001b[0m     key \u001b[39m=\u001b[39m com\u001b[39m.\u001b[39mapply_if_callable(key, \u001b[39mself\u001b[39m)\n",
      "\u001b[0;31mKeyboardInterrupt\u001b[0m: "
     ]
    }
   ],
   "source": [
    "# from sklearn.metrics import accuracy_score, f1_score, precision_score, recall_score\n",
    "# from tqdm import tqdm\n",
    "# def custom_score(y_true, y_pred):\n",
    "\n",
    "#     score = len(audio_data_int16)\n",
    "\n",
    "#     for i in range(len(audio_data_int16)):\n",
    "    \n",
    "#         if y_true[i] == 0 and y_pred[i] != 0: # unintentional broadcast\n",
    "#             score -= int(1 / command_ratio)\n",
    "#         if y_true[i] == 1 and y_pred[i] != 1: # lost communication\n",
    "#             score -= int(1 / communication_ratio)\n",
    "#     return score /len(audio_data_int16)\n",
    "# resultdf = pd.DataFrame()\n",
    "# index= 0 \n",
    "# for threshold in tqdm(range(0,50,1),total=50):\n",
    "#     threshold = threshold / 100\n",
    "#     # print(threshold)\n",
    "#     df[\"prediction\"] = df[\"predscore\"].apply(lambda x: 0 if x < threshold else 1)\n",
    "#     resultdf.loc[index,\"threshold\"] = threshold\n",
    "#     resultdf.loc[index,\"accuracy\"] = accuracy_score(df[\"label\"], df[\"prediction\"])\n",
    "#     resultdf.loc[index,\"f1\"] = f1_score(df[\"label\"], df[\"prediction\"])\n",
    "#     resultdf.loc[index,\"precision\"] = precision_score(df[\"label\"], df[\"prediction\"])\n",
    "#     resultdf.loc[index,\"recall\"] = recall_score(df[\"label\"], df[\"prediction\"])\n",
    "#     resultdf.loc[index,\"score\"] = custom_score(df[\"label\"], df[\"prediction\"])\n",
    "#     index += 1\n",
    "\n",
    "    "
   ]
  },
  {
   "cell_type": "code",
   "execution_count": 37,
   "metadata": {},
   "outputs": [],
   "source": [
    "# resultdf.describe()"
   ]
  },
  {
   "cell_type": "code",
   "execution_count": 38,
   "metadata": {},
   "outputs": [],
   "source": [
    "# resultdf.sort_values(by=\"score\",ascending=False)"
   ]
  },
  {
   "cell_type": "code",
   "execution_count": 39,
   "metadata": {},
   "outputs": [],
   "source": [
    "# resultdf.corr()"
   ]
  },
  {
   "cell_type": "code",
   "execution_count": 40,
   "metadata": {},
   "outputs": [
    {
     "data": {
      "text/plain": [
       "512000"
      ]
     },
     "execution_count": 40,
     "metadata": {},
     "output_type": "execute_result"
    }
   ],
   "source": [
    "# len(df)/1883\n",
    "512*1000"
   ]
  },
  {
   "cell_type": "code",
   "execution_count": null,
   "metadata": {},
   "outputs": [],
   "source": []
  },
  {
   "cell_type": "code",
   "execution_count": 41,
   "metadata": {},
   "outputs": [],
   "source": [
    "# index= 0 \n",
    "# resultdf =pd.DataFrame()\n",
    "# for threshold in tqdm(range(0,60,1),total=60):\n",
    "#     threshold = threshold / 100\n",
    "#     # print(threshold)\n",
    "#     val_df[\"prediction\"] = val_df[\"predscore\"].apply(lambda x: 0 if x < threshold else 1)\n",
    "#     resultdf.loc[index,\"threshold\"] = threshold\n",
    "#     resultdf.loc[index,\"accuracy\"] = accuracy_score(val_df[\"label\"], val_df[\"prediction\"])\n",
    "#     resultdf.loc[index,\"f1\"] = f1_score(val_df[\"label\"], val_df[\"prediction\"])\n",
    "#     resultdf.loc[index,\"precision\"] = precision_score(val_df[\"label\"], val_df[\"prediction\"])\n",
    "#     resultdf.loc[index,\"recall\"] = recall_score(val_df[\"label\"], val_df[\"prediction\"])\n",
    "#     resultdf.loc[index,\"score\"] = custom_val_score(val_df[\"label\"].values, val_df[\"prediction\"].values)\n",
    "#     index += 1\n",
    "# resultdf.sort_values(by=\"score\",ascending=False)    "
   ]
  },
  {
   "cell_type": "code",
   "execution_count": 42,
   "metadata": {},
   "outputs": [],
   "source": [
    "# from soundfile import write\n",
    "# write(\"logdir/galacticcommands.wav\",val_df[val_df[\"prediction\"]==0][\"signal\"].values/32767,16000)\n",
    "# write(\"logdir/comms.wav\",val_df[val_df[\"prediction\"]==1][\"signal\"].values/32767,16000)"
   ]
  },
  {
   "cell_type": "code",
   "execution_count": 43,
   "metadata": {},
   "outputs": [],
   "source": [
    "# get start and end index for consecurtive sequences where label ==1\n",
    "\n"
   ]
  },
  {
   "cell_type": "code",
   "execution_count": 44,
   "metadata": {},
   "outputs": [
    {
     "data": {
      "text/html": [
       "<div>\n",
       "<style scoped>\n",
       "    .dataframe tbody tr th:only-of-type {\n",
       "        vertical-align: middle;\n",
       "    }\n",
       "\n",
       "    .dataframe tbody tr th {\n",
       "        vertical-align: top;\n",
       "    }\n",
       "\n",
       "    .dataframe thead th {\n",
       "        text-align: right;\n",
       "    }\n",
       "</style>\n",
       "<table border=\"1\" class=\"dataframe\">\n",
       "  <thead>\n",
       "    <tr style=\"text-align: right;\">\n",
       "      <th></th>\n",
       "      <th>a</th>\n",
       "      <th>b</th>\n",
       "    </tr>\n",
       "  </thead>\n",
       "  <tbody>\n",
       "    <tr>\n",
       "      <th>0</th>\n",
       "      <td>1</td>\n",
       "      <td>1</td>\n",
       "    </tr>\n",
       "    <tr>\n",
       "      <th>1</th>\n",
       "      <td>2</td>\n",
       "      <td>2</td>\n",
       "    </tr>\n",
       "    <tr>\n",
       "      <th>2</th>\n",
       "      <td>3</td>\n",
       "      <td>3</td>\n",
       "    </tr>\n",
       "  </tbody>\n",
       "</table>\n",
       "</div>"
      ],
      "text/plain": [
       "   a  b\n",
       "0  1  1\n",
       "1  2  2\n",
       "2  3  3"
      ]
     },
     "execution_count": 44,
     "metadata": {},
     "output_type": "execute_result"
    }
   ],
   "source": [
    "# a = pd.DataFrame({\"a\":[1,2,3]})\n",
    "# a[\"b\"] = a[\"a\"].shift(0)\n",
    "# a"
   ]
  }
 ],
 "metadata": {
  "kernelspec": {
   "display_name": "kaggle",
   "language": "python",
   "name": "python3"
  },
  "language_info": {
   "codemirror_mode": {
    "name": "ipython",
    "version": 3
   },
   "file_extension": ".py",
   "mimetype": "text/x-python",
   "name": "python",
   "nbconvert_exporter": "python",
   "pygments_lexer": "ipython3",
   "version": "3.11.5"
  },
  "orig_nbformat": 4
 },
 "nbformat": 4,
 "nbformat_minor": 2
}
