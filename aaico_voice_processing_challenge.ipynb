{
 "cells": [
  {
   "cell_type": "markdown",
   "metadata": {
    "id": "YE_Sf0jEgcxX"
   },
   "source": [
    "# **AAICO February 2024 Voice Processing Challenge**"
   ]
  },
  {
   "cell_type": "markdown",
   "metadata": {
    "id": "RAvukRH_bBkp"
   },
   "source": [
    "### Install"
   ]
  },
  {
   "cell_type": "code",
   "execution_count": null,
   "metadata": {
    "colab": {
     "base_uri": "https://localhost:8080/"
    },
    "id": "LbEpt6FKZo6D",
    "outputId": "2e6661e5-18e0-42f1-8594-c24ddde14e9c"
   },
   "outputs": [],
   "source": [
    "! pip install --upgrade pip\n",
    "! pip install librosa"
   ]
  },
  {
   "cell_type": "markdown",
   "metadata": {
    "id": "rk6vQlVRbF7j"
   },
   "source": [
    "### Import"
   ]
  },
  {
   "cell_type": "code",
   "execution_count": 31,
   "metadata": {
    "id": "QC-5fqjPfh51"
   },
   "outputs": [],
   "source": [
    "import librosa\n",
    "import numpy as np\n",
    "import time\n",
    "from IPython.display import Audio, display\n",
    "import plotly.express as px\n",
    "import pickle"
   ]
  },
  {
   "cell_type": "markdown",
   "metadata": {
    "id": "tElnB6HLfT_t"
   },
   "source": [
    "### **Audio parameters**"
   ]
  },
  {
   "cell_type": "code",
   "execution_count": 32,
   "metadata": {
    "id": "FBO1Ji6MfXC_"
   },
   "outputs": [],
   "source": [
    "# Desired sample rate 16000 Hz\n",
    "sample_rate = 16000\n",
    "\n",
    "# Frame length\n",
    "frame_length = 512"
   ]
  },
  {
   "cell_type": "markdown",
   "metadata": {
    "id": "tM08YfUxZ7u0"
   },
   "source": [
    "### **Open audio file**"
   ]
  },
  {
   "cell_type": "code",
   "execution_count": 33,
   "metadata": {
    "id": "BIdyMIjVZ9ff"
   },
   "outputs": [],
   "source": [
    "# Path to the audio file\n",
    "audio_file = \"audio_aaico_challenge.wav\"\n",
    "\n",
    "# Read the audio file and resample it to the desired sample rate\n",
    "audio_data, current_sample_rate = librosa.load(\n",
    "    audio_file,\n",
    "    sr=sample_rate,\n",
    ")\n",
    "audio_data_int16 = (audio_data * 32767).astype(np.int16)\n",
    "\n",
    "number_of_frames = len(audio_data_int16) // frame_length\n",
    "\n",
    "audio_data_int16 = audio_data_int16[:number_of_frames * frame_length]\n",
    "audio_duration = len(audio_data_int16) / sample_rate"
   ]
  },
  {
   "cell_type": "code",
   "execution_count": 19,
   "metadata": {
    "colab": {
     "base_uri": "https://localhost:8080/"
    },
    "id": "STw48TN4Fwhl",
    "outputId": "fd0a013e-0ec3-4036-95bc-b6598353f915"
   },
   "outputs": [
    {
     "data": {
      "text/plain": [
       "964096"
      ]
     },
     "execution_count": 19,
     "metadata": {},
     "output_type": "execute_result"
    }
   ],
   "source": [
    "len(audio_data_int16)"
   ]
  },
  {
   "cell_type": "markdown",
   "metadata": {
    "id": "zAM5ACo7pun7"
   },
   "source": [
    "### **Play and visualise audio**"
   ]
  },
  {
   "cell_type": "code",
   "execution_count": 20,
   "metadata": {
    "colab": {
     "base_uri": "https://localhost:8080/",
     "height": 76
    },
    "id": "o8kR9UzNpEuJ",
    "outputId": "a5b630aa-8509-4d46-ed1f-264f10d2a3f1"
   },
   "outputs": [
    {
     "data": {
      "text/html": [
       "\n",
       "                <audio  controls=\"controls\" >\n",
       "                    <source src=\"data:audio/wav;base64,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\" type=\"audio/wav\" />\n",
       "                    Your browser does not support the audio element.\n",
       "                </audio>\n",
       "              "
      ],
      "text/plain": [
       "<IPython.lib.display.Audio object>"
      ]
     },
     "metadata": {},
     "output_type": "display_data"
    }
   ],
   "source": [
    "display(Audio(audio_data_int16[620000: 627000], rate=16000))"
   ]
  },
  {
   "cell_type": "code",
   "execution_count": null,
   "metadata": {
    "id": "B5-m2iXYrML5"
   },
   "outputs": [],
   "source": [
    "fig = px.scatter(audio_data_int16, title=\"Input audio\")\n",
    "fig.show()"
   ]
  },
  {
   "cell_type": "markdown",
   "metadata": {
    "id": "o49br1Pbrvgl"
   },
   "source": [
    "### **Reference constants**"
   ]
  },
  {
   "cell_type": "code",
   "execution_count": 34,
   "metadata": {
    "id": "j8uTvr8E9xt-"
   },
   "outputs": [],
   "source": [
    "command_samples = [\n",
    "    [142000, 160000],\n",
    "    [340000, 360000],\n",
    "    [620000, 635000]\n",
    "]\n",
    "\n",
    "nb_command_samples = sum([elem[1] - elem[0] for elem in command_samples])"
   ]
  },
  {
   "cell_type": "markdown",
   "metadata": {
    "id": "3767QEqjbiK0"
   },
   "source": [
    "#### **Ground truth**\n",
    "\n",
    "We establish the ground truth of the labels as follows:\n",
    "- Voice command samples are labeled as 0.\n",
    "- Everything that is not a command is labeled as 1."
   ]
  },
  {
   "cell_type": "code",
   "execution_count": 53,
   "metadata": {
    "id": "qnpGqbsL1f7i"
   },
   "outputs": [],
   "source": [
    "ground_truth = np.ones(len(audio_data_int16))\n",
    "for i in range(len(audio_data_int16)):\n",
    "    if any([i >= e[0] and i <= e[1] for e in command_samples]):\n",
    "        ground_truth[i] = 0"
   ]
  },
  {
   "cell_type": "code",
   "execution_count": null,
   "metadata": {
    "id": "3I3Xy3PN-Pyh"
   },
   "outputs": [],
   "source": [
    "fig = px.scatter(audio_data_int16, title=\"Input audio\")\n",
    "for elem in command_samples:\n",
    "    fig.add_vline(x=elem[0], line_color=\"red\")\n",
    "    fig.add_vline(x=elem[1], line_color=\"red\")\n",
    "fig.show()"
   ]
  },
  {
   "cell_type": "markdown",
   "metadata": {
    "id": "G2_8HJZ8gKIa"
   },
   "source": [
    "### **Evaluate results**"
   ]
  },
  {
   "cell_type": "markdown",
   "metadata": {
    "id": "GB76hUqxdsDY"
   },
   "source": [
    "Import result file"
   ]
  },
  {
   "cell_type": "code",
   "execution_count": 58,
   "metadata": {
    "id": "5qmQeIlwYQ5T"
   },
   "outputs": [],
   "source": [
    "result_path = 'results.pkl'\n",
    "\n",
    "# Open and read the list from the file\n",
    "with open(result_path, 'rb') as file:\n",
    "    results = pickle.load(file)"
   ]
  },
  {
   "cell_type": "markdown",
   "metadata": {
    "id": "OlTyJYz4dxRf"
   },
   "source": [
    "Calculate the overrun time for every sample, extract the labels."
   ]
  },
  {
   "cell_type": "code",
   "execution_count": 59,
   "metadata": {
    "id": "49dih-HHv1ck"
   },
   "outputs": [],
   "source": [
    "overrun_times_ms = (results[2] - results[0]) / 1e6\n",
    "labels = results[1]"
   ]
  },
  {
   "cell_type": "markdown",
   "metadata": {
    "id": "AvfWTfIQs5Iu"
   },
   "source": [
    "#### **Assertions**"
   ]
  },
  {
   "cell_type": "markdown",
   "metadata": {
    "id": "ldrCDeWPd381"
   },
   "source": [
    "A solution is valid if:\n",
    "- Samples have been labelled sequentially\n",
    "- Each sample has been processed in less than 50 ms\n",
    "\n",
    "These constraints aim to enforce the real time simulation."
   ]
  },
  {
   "cell_type": "code",
   "execution_count": 60,
   "metadata": {
    "id": "yXV9s_tfs4dd"
   },
   "outputs": [],
   "source": [
    "assert np.all(np.diff(results[2]) >= 0) # Labelling has been done sequentially\n",
    "assert np.all(overrun_times_ms <= 50) # Processing took less than 50 ms for each sample"
   ]
  },
  {
   "cell_type": "markdown",
   "metadata": {
    "id": "Az-r0gvauFXn"
   },
   "source": [
    "#### **Scoring**"
   ]
  },
  {
   "cell_type": "markdown",
   "metadata": {
    "id": "XXrhAZZTeiHu"
   },
   "source": [
    "The score is calculated by penalizing:\n",
    "- The samples that have been processed in more than 20 ms.\n",
    "- The samples of commands that have been broadcast.\n",
    "- The samples of communications that have not been broadcast."
   ]
  },
  {
   "cell_type": "code",
   "execution_count": 57,
   "metadata": {
    "colab": {
     "base_uri": "https://localhost:8080/"
    },
    "id": "I6zOtw9Bw6SE",
    "outputId": "2f55dc5a-c65c-44cb-a9c5-d42a8faed6c8"
   },
   "outputs": [
    {
     "name": "stdout",
     "output_type": "stream",
     "text": [
      "Score: 0.05497689026818906\n"
     ]
    }
   ],
   "source": [
    "slow_sample_labelling_thres = 20\n",
    "command_ratio = nb_command_samples / len(audio_data_int16)\n",
    "communication_ratio = 1 - nb_command_samples / len(audio_data_int16)\n",
    "\n",
    "score = len(audio_data_int16)\n",
    "\n",
    "for i in range(len(audio_data_int16)):\n",
    "    if overrun_times_ms[i] >= slow_sample_labelling_thres:\n",
    "        score -= 1\n",
    "    else:\n",
    "        if ground_truth[i] == 0 and labels[i] != 0: # unintentional broadcast\n",
    "            score -= int(1 / command_ratio)\n",
    "        if ground_truth[i] == 1 and labels[i] != 1: # lost communication\n",
    "            score -= int(1 / communication_ratio)\n",
    "\n",
    "print(f'Score: {score / len(audio_data_int16)}')"
   ]
  },
  {
   "cell_type": "code",
   "execution_count": null,
   "metadata": {},
   "outputs": [],
   "source": []
  }
 ],
 "metadata": {
  "colab": {
   "provenance": []
  },
  "kernelspec": {
   "display_name": "Python 3 (ipykernel)",
   "language": "python",
   "name": "python3"
  },
  "language_info": {
   "codemirror_mode": {
    "name": "ipython",
    "version": 3
   },
   "file_extension": ".py",
   "mimetype": "text/x-python",
   "name": "python",
   "nbconvert_exporter": "python",
   "pygments_lexer": "ipython3",
   "version": "3.11.4"
  }
 },
 "nbformat": 4,
 "nbformat_minor": 1
}
